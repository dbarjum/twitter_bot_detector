{
 "cells": [
   {
    "cell_type": "markdown",
    "metadata": {},
    "source": [
     "### Comparing Results Against Botometer\n",
     "\n",
     "In the above results, we measured accuracy of our models by comparing predictions to the classified tweets from the researchers' data. We obtained probabilities, and we assumed that a probability above 0.5 was bot and below was genuine. This metric is vulnerable to the choice of threshold used. Perhaps a better metric would be to compare with an already established machine learning model for detecting if a user is a bot or not.\n",
     "\n",
     "This is what we did in the following section. We obtained the probability of a user in the test set to be a bot or not based on the result of Botometer. We then compared our predicted score to the Botometer score and test how many of our predictions fall within 10% of the Botometer score for any given user."
    ]
   },
   {
    "cell_type": "code",
    "execution_count": 1,
    "metadata": {},
    "outputs": [],
    "source": [
     "import botometer\n",
     "import pandas as pd\n",
     "import numpy as np\n",
     "\n",
     "import matplotlib.pyplot as plt\n",
     "import matplotlib\n",
     "%matplotlib inline\n",
     "import requests"
    ]
   },
   {
    "cell_type": "code",
    "execution_count": 2,
    "metadata": {},
    "outputs": [],
    "source": [
     "# We are hidding keys for privacy purposes.\n",
     "mashape_key = 'xxxxxxxxxxxxxxxx'\n",
     "twitter_app_auth = {\n",
     "    'consumer_key': 'xxxxxxxxxxxxxxxx',\n",
     "    'consumer_secret': 'xxxxxxxxxxxxxxxx',\n",
     "    'access_token': 'xxxxxxxxxxxxxxxx',\n",
     "    'access_token_secret': 'xxxxxxxxxxxxxxxx',\n",
     "  }\n",
     "bom = botometer.Botometer(wait_on_ratelimit=True,\n",
     "                          mashape_key=mashape_key,\n",
     "                          **twitter_app_auth)"
    ]
   },
   {
    "cell_type": "markdown",
    "metadata": {},
    "source": [
     "Read in accounts from our test set to be used in Botometer."
    ]
   },
   {
    "cell_type": "code",
    "execution_count": 3,
    "metadata": {},
    "outputs": [],
    "source": [
     "accounts = pd.read_csv('data/botometer_df.csv', index_col=0)"
    ]
   },
   {
    "cell_type": "code",
    "execution_count": 4,
    "metadata": {},
    "outputs": [
     {
      "data": {
       "text/plain": [
        "(1659, 2)"
       ]
      },
      "execution_count": 4,
      "metadata": {},
      "output_type": "execute_result"
     }
    ],
    "source": [
     "accounts.shape"
    ]
   },
   {
    "cell_type": "markdown",
    "metadata": {},
    "source": [
     "We request information for the accounts to Botometer. Unfortunatley, not all accounts in our test set are still twitter active accounts. Therefore we try to get information, but if twitter has no info on these accounts, we append a Null to flag it later and ignore it."
    ]
   },
   {
    "cell_type": "code",
    "execution_count": 16,
    "metadata": {},
    "outputs": [],
    "source": [
     "bot_pred = []\n",
     "for i in accounts.user_id:\n",
     "    try:\n",
     "        result = bom.check_account(str(i))\n",
     "        bot_pred.append(result['display_scores']['english'])\n",
     "    except:\n",
     "        bot_pred.append(np.nan)"
    ]
   },
   {
    "cell_type": "code",
    "execution_count": 17,
    "metadata": {},
    "outputs": [],
    "source": [
     "accounts['botometer_score'] = bot_pred"
    ]
   },
   {
    "cell_type": "markdown",
    "metadata": {},
    "source": [
     "Check that scores were appended and make sense."
    ]
   },
   {
    "cell_type": "code",
    "execution_count": 26,
    "metadata": {},
    "outputs": [
     {
      "data": {
       "text/html": [
        "<div>\n",
        "<style scoped>\n",
        "    .dataframe tbody tr th:only-of-type {\n",
        "        vertical-align: middle;\n",
        "    }\n",
        "\n",
        "    .dataframe tbody tr th {\n",
        "        vertical-align: top;\n",
        "    }\n",
        "\n",
        "    .dataframe thead th {\n",
        "        text-align: right;\n",
        "    }\n",
        "</style>\n",
        "<table border=\"1\" class=\"dataframe\">\n",
        "  <thead>\n",
        "    <tr style=\"text-align: right;\">\n",
        "      <th></th>\n",
        "      <th>user_id</th>\n",
        "      <th>y_pred</th>\n",
        "      <th>botometer_score</th>\n",
        "    </tr>\n",
        "  </thead>\n",
        "  <tbody>\n",
        "    <tr>\n",
        "      <th>0</th>\n",
        "      <td>722623</td>\n",
        "      <td>1.505279e-05</td>\n",
        "      <td>0.3</td>\n",
        "    </tr>\n",
        "    <tr>\n",
        "      <th>1</th>\n",
        "      <td>785080</td>\n",
        "      <td>1.312385e-05</td>\n",
        "      <td>0.2</td>\n",
        "    </tr>\n",
        "    <tr>\n",
        "      <th>2</th>\n",
        "      <td>806585</td>\n",
        "      <td>1.018241e-05</td>\n",
        "      <td>0.2</td>\n",
        "    </tr>\n",
        "    <tr>\n",
        "      <th>3</th>\n",
        "      <td>2770511</td>\n",
        "      <td>1.467852e-05</td>\n",
        "      <td>0.1</td>\n",
        "    </tr>\n",
        "    <tr>\n",
        "      <th>4</th>\n",
        "      <td>3873101</td>\n",
        "      <td>1.385364e-07</td>\n",
        "      <td>0.5</td>\n",
        "    </tr>\n",
        "  </tbody>\n",
        "</table>\n",
        "</div>"
       ],
       "text/plain": [
        "   user_id        y_pred  botometer_score\n",
        "0   722623  1.505279e-05              0.3\n",
        "1   785080  1.312385e-05              0.2\n",
        "2   806585  1.018241e-05              0.2\n",
        "3  2770511  1.467852e-05              0.1\n",
        "4  3873101  1.385364e-07              0.5"
       ]
      },
      "execution_count": 26,
      "metadata": {},
      "output_type": "execute_result"
     }
    ],
    "source": [
     "accounts.head()"
    ]
   },
   {
    "cell_type": "markdown",
    "metadata": {},
    "source": [
     "Botometer returns a probability score between 0 and 5, 0 for human and 5 for bot. We normalize these scores in order to compare with our results."
    ]
   },
   {
    "cell_type": "code",
    "execution_count": 29,
    "metadata": {},
    "outputs": [],
    "source": [
     "accounts['bot_score_norm']=(accounts.botometer_score-accounts.botometer_score.min())/(accounts.botometer_score.max()-accounts.botometer_score.min())"
    ]
   },
   {
    "cell_type": "code",
    "execution_count": 30,
    "metadata": {},
    "outputs": [
     {
      "data": {
       "text/html": [
        "<div>\n",
        "<style scoped>\n",
        "    .dataframe tbody tr th:only-of-type {\n",
        "        vertical-align: middle;\n",
        "    }\n",
        "\n",
        "    .dataframe tbody tr th {\n",
        "        vertical-align: top;\n",
        "    }\n",
        "\n",
        "    .dataframe thead th {\n",
        "        text-align: right;\n",
        "    }\n",
        "</style>\n",
        "<table border=\"1\" class=\"dataframe\">\n",
        "  <thead>\n",
        "    <tr style=\"text-align: right;\">\n",
        "      <th></th>\n",
        "      <th>user_id</th>\n",
        "      <th>y_pred</th>\n",
        "      <th>botometer_score</th>\n",
        "      <th>bot_score_norm</th>\n",
        "    </tr>\n",
        "  </thead>\n",
        "  <tbody>\n",
        "    <tr>\n",
        "      <th>0</th>\n",
        "      <td>722623</td>\n",
        "      <td>1.505279e-05</td>\n",
        "      <td>0.3</td>\n",
        "      <td>0.041667</td>\n",
        "    </tr>\n",
        "    <tr>\n",
        "      <th>1</th>\n",
        "      <td>785080</td>\n",
        "      <td>1.312385e-05</td>\n",
        "      <td>0.2</td>\n",
        "      <td>0.020833</td>\n",
        "    </tr>\n",
        "    <tr>\n",
        "      <th>2</th>\n",
        "      <td>806585</td>\n",
        "      <td>1.018241e-05</td>\n",
        "      <td>0.2</td>\n",
        "      <td>0.020833</td>\n",
        "    </tr>\n",
        "    <tr>\n",
        "      <th>3</th>\n",
        "      <td>2770511</td>\n",
        "      <td>1.467852e-05</td>\n",
        "      <td>0.1</td>\n",
        "      <td>0.000000</td>\n",
        "    </tr>\n",
        "    <tr>\n",
        "      <th>4</th>\n",
        "      <td>3873101</td>\n",
        "      <td>1.385364e-07</td>\n",
        "      <td>0.5</td>\n",
        "      <td>0.083333</td>\n",
        "    </tr>\n",
        "  </tbody>\n",
        "</table>\n",
        "</div>"
       ],
       "text/plain": [
        "   user_id        y_pred  botometer_score  bot_score_norm\n",
        "0   722623  1.505279e-05              0.3        0.041667\n",
        "1   785080  1.312385e-05              0.2        0.020833\n",
        "2   806585  1.018241e-05              0.2        0.020833\n",
        "3  2770511  1.467852e-05              0.1        0.000000\n",
        "4  3873101  1.385364e-07              0.5        0.083333"
       ]
      },
      "execution_count": 30,
      "metadata": {},
      "output_type": "execute_result"
     }
    ],
    "source": [
     "accounts.head()"
    ]
   },
   {
    "cell_type": "markdown",
    "metadata": {},
    "source": [
     "We check to see if our score is within 10% of the score that Botometer gave, we create an upper and lower bound and see if our score falls between these two values for each user score."
    ]
   },
   {
    "cell_type": "code",
    "execution_count": 33,
    "metadata": {},
    "outputs": [],
    "source": [
     "accounts['upper_b'] = accounts.bot_score_norm*1.10\n",
     "accounts['lower_b'] = accounts.bot_score_norm*0.90"
    ]
   },
   {
    "cell_type": "code",
    "execution_count": 34,
    "metadata": {},
    "outputs": [
     {
      "data": {
       "text/html": [
        "<div>\n",
        "<style scoped>\n",
        "    .dataframe tbody tr th:only-of-type {\n",
        "        vertical-align: middle;\n",
        "    }\n",
        "\n",
        "    .dataframe tbody tr th {\n",
        "        vertical-align: top;\n",
        "    }\n",
        "\n",
        "    .dataframe thead th {\n",
        "        text-align: right;\n",
        "    }\n",
        "</style>\n",
        "<table border=\"1\" class=\"dataframe\">\n",
        "  <thead>\n",
        "    <tr style=\"text-align: right;\">\n",
        "      <th></th>\n",
        "      <th>user_id</th>\n",
        "      <th>y_pred</th>\n",
        "      <th>botometer_score</th>\n",
        "      <th>bot_score_norm</th>\n",
        "      <th>upper_b</th>\n",
        "      <th>lower_b</th>\n",
        "    </tr>\n",
        "  </thead>\n",
        "  <tbody>\n",
        "    <tr>\n",
        "      <th>0</th>\n",
        "      <td>722623</td>\n",
        "      <td>1.505279e-05</td>\n",
        "      <td>0.3</td>\n",
        "      <td>0.041667</td>\n",
        "      <td>0.045833</td>\n",
        "      <td>0.03750</td>\n",
        "    </tr>\n",
        "    <tr>\n",
        "      <th>1</th>\n",
        "      <td>785080</td>\n",
        "      <td>1.312385e-05</td>\n",
        "      <td>0.2</td>\n",
        "      <td>0.020833</td>\n",
        "      <td>0.022917</td>\n",
        "      <td>0.01875</td>\n",
        "    </tr>\n",
        "    <tr>\n",
        "      <th>2</th>\n",
        "      <td>806585</td>\n",
        "      <td>1.018241e-05</td>\n",
        "      <td>0.2</td>\n",
        "      <td>0.020833</td>\n",
        "      <td>0.022917</td>\n",
        "      <td>0.01875</td>\n",
        "    </tr>\n",
        "    <tr>\n",
        "      <th>3</th>\n",
        "      <td>2770511</td>\n",
        "      <td>1.467852e-05</td>\n",
        "      <td>0.1</td>\n",
        "      <td>0.000000</td>\n",
        "      <td>0.000000</td>\n",
        "      <td>0.00000</td>\n",
        "    </tr>\n",
        "    <tr>\n",
        "      <th>4</th>\n",
        "      <td>3873101</td>\n",
        "      <td>1.385364e-07</td>\n",
        "      <td>0.5</td>\n",
        "      <td>0.083333</td>\n",
        "      <td>0.091667</td>\n",
        "      <td>0.07500</td>\n",
        "    </tr>\n",
        "  </tbody>\n",
        "</table>\n",
        "</div>"
       ],
       "text/plain": [
        "   user_id        y_pred  botometer_score  bot_score_norm   upper_b  lower_b\n",
        "0   722623  1.505279e-05              0.3        0.041667  0.045833  0.03750\n",
        "1   785080  1.312385e-05              0.2        0.020833  0.022917  0.01875\n",
        "2   806585  1.018241e-05              0.2        0.020833  0.022917  0.01875\n",
        "3  2770511  1.467852e-05              0.1        0.000000  0.000000  0.00000\n",
        "4  3873101  1.385364e-07              0.5        0.083333  0.091667  0.07500"
       ]
      },
      "execution_count": 34,
      "metadata": {},
      "output_type": "execute_result"
     }
    ],
    "source": [
     "accounts.head()"
    ]
   },
   {
    "cell_type": "code",
    "execution_count": 66,
    "metadata": {},
    "outputs": [],
    "source": [
     "clean_df = accounts.loc[accounts.bot_score_norm.isna()==False]"
    ]
   },
   {
    "cell_type": "code",
    "execution_count": 67,
    "metadata": {},
    "outputs": [],
    "source": [
     "within_10 = [clean_df.y_pred>=clean_df.lower_b]and[clean_df.y_pred<=clean_df.upper_b]"
    ]
   },
   {
    "cell_type": "code",
    "execution_count": 68,
    "metadata": {},
    "outputs": [
     {
      "name": "stderr",
      "output_type": "stream",
      "text": [
       "/usr/share/anaconda3/lib/python3.6/site-packages/ipykernel_launcher.py:1: SettingWithCopyWarning: \n",
       "A value is trying to be set on a copy of a slice from a DataFrame.\n",
       "Try using .loc[row_indexer,col_indexer] = value instead\n",
       "\n",
       "See the caveats in the documentation: http://pandas.pydata.org/pandas-docs/stable/indexing.html#indexing-view-versus-copy\n",
       "  \"\"\"Entry point for launching an IPython kernel.\n"
      ]
     }
    ],
    "source": [
     "clean_df['within_10'] = within_10[0]"
    ]
   },
   {
    "cell_type": "code",
    "execution_count": 69,
    "metadata": {},
    "outputs": [
     {
      "data": {
       "text/html": [
        "<div>\n",
        "<style scoped>\n",
        "    .dataframe tbody tr th:only-of-type {\n",
        "        vertical-align: middle;\n",
        "    }\n",
        "\n",
        "    .dataframe tbody tr th {\n",
        "        vertical-align: top;\n",
        "    }\n",
        "\n",
        "    .dataframe thead th {\n",
        "        text-align: right;\n",
        "    }\n",
        "</style>\n",
        "<table border=\"1\" class=\"dataframe\">\n",
        "  <thead>\n",
        "    <tr style=\"text-align: right;\">\n",
        "      <th></th>\n",
        "      <th>user_id</th>\n",
        "      <th>y_pred</th>\n",
        "      <th>botometer_score</th>\n",
        "      <th>bot_score_norm</th>\n",
        "      <th>upper_b</th>\n",
        "      <th>lower_b</th>\n",
        "      <th>within_10</th>\n",
        "    </tr>\n",
        "  </thead>\n",
        "  <tbody>\n",
        "    <tr>\n",
        "      <th>0</th>\n",
        "      <td>722623</td>\n",
        "      <td>1.505279e-05</td>\n",
        "      <td>0.3</td>\n",
        "      <td>0.041667</td>\n",
        "      <td>0.045833</td>\n",
        "      <td>0.03750</td>\n",
        "      <td>True</td>\n",
        "    </tr>\n",
        "    <tr>\n",
        "      <th>1</th>\n",
        "      <td>785080</td>\n",
        "      <td>1.312385e-05</td>\n",
        "      <td>0.2</td>\n",
        "      <td>0.020833</td>\n",
        "      <td>0.022917</td>\n",
        "      <td>0.01875</td>\n",
        "      <td>True</td>\n",
        "    </tr>\n",
        "    <tr>\n",
        "      <th>2</th>\n",
        "      <td>806585</td>\n",
        "      <td>1.018241e-05</td>\n",
        "      <td>0.2</td>\n",
        "      <td>0.020833</td>\n",
        "      <td>0.022917</td>\n",
        "      <td>0.01875</td>\n",
        "      <td>True</td>\n",
        "    </tr>\n",
        "    <tr>\n",
        "      <th>3</th>\n",
        "      <td>2770511</td>\n",
        "      <td>1.467852e-05</td>\n",
        "      <td>0.1</td>\n",
        "      <td>0.000000</td>\n",
        "      <td>0.000000</td>\n",
        "      <td>0.00000</td>\n",
        "      <td>False</td>\n",
        "    </tr>\n",
        "    <tr>\n",
        "      <th>4</th>\n",
        "      <td>3873101</td>\n",
        "      <td>1.385364e-07</td>\n",
        "      <td>0.5</td>\n",
        "      <td>0.083333</td>\n",
        "      <td>0.091667</td>\n",
        "      <td>0.07500</td>\n",
        "      <td>True</td>\n",
        "    </tr>\n",
        "  </tbody>\n",
        "</table>\n",
        "</div>"
       ],
       "text/plain": [
        "   user_id        y_pred  botometer_score  bot_score_norm   upper_b  lower_b  \\\n",
        "0   722623  1.505279e-05              0.3        0.041667  0.045833  0.03750   \n",
        "1   785080  1.312385e-05              0.2        0.020833  0.022917  0.01875   \n",
        "2   806585  1.018241e-05              0.2        0.020833  0.022917  0.01875   \n",
        "3  2770511  1.467852e-05              0.1        0.000000  0.000000  0.00000   \n",
        "4  3873101  1.385364e-07              0.5        0.083333  0.091667  0.07500   \n",
        "\n",
        "   within_10  \n",
        "0       True  \n",
        "1       True  \n",
        "2       True  \n",
        "3      False  \n",
        "4       True  "
       ]
      },
      "execution_count": 69,
      "metadata": {},
      "output_type": "execute_result"
     }
    ],
    "source": [
     "clean_df.head()"
    ]
   },
   {
    "cell_type": "code",
    "execution_count": 70,
    "metadata": {},
    "outputs": [
     {
      "data": {
       "text/plain": [
        "0.8815399802566634"
       ]
      },
      "execution_count": 70,
      "metadata": {},
      "output_type": "execute_result"
     }
    ],
    "source": [
     "clean_df.within_10.sum()/len(clean_df)"
    ]
   },
   {
    "cell_type": "markdown",
    "metadata": {},
    "source": [
     "Our score based on a total of 1013 users that we tested against Botometer was of 88.2% accuracy. This means that for 88.2% of our scores where within 10% of the score given by Botometer."
    ]
   },
   {
    "cell_type": "markdown",
    "metadata": {},
    "source": [
     "## 2. Conclusion and Future Work"
    ]
   },
   {
    "cell_type": "markdown",
    "metadata": {},
    "source": [
     "We set out to create a model that can predict whether a twitter account is likely to be a bot or a genuine account. We were motivated to do this and test our performance against an already working machine learning model created by the Indiana University called Botometer.\n",
     "\n",
     "We reached out to the researchers who have collected and labeled data related to numerous twitter accounts. We obtained over 6 Million observations corresponding to over 9,000 users. This data was labeled. Cleaning of the data was necesarry as the data was in raw format.\n",
     "\n",
     "Additionally, we learned that feature engineering is important for this process. We generated various features from the raw data such as time data, if a tweet was a reply, the source of the tweet, and others. Some of these features proved to be useful, some proved to be not useful at all.\n",
     "\n",
     "We measured the performance of our model against results obtained from Botometer itself. When comparing our model's performance against Botometer's performance, we see that 88.2% of our scores fall within 10% of the scores given by Botometer.\n",
     "\n",
     "Next iterations of this project could include more feature engineering and tuning the neural network further. Botometer uses over 1000 features to create a score for a given user. We only used 25 features, so there is still a lot of opportunity to improve our model. We present a list of what other features could be done that might useful for prediction. It is important to test these as in our model, we discoverd that some engineered features actually lowered the accuracy score of our models (in particular features related to datetime variables).\n",
     "\n",
     "A few features that could be engineered for later use in the models:\n",
     "\n",
     "    - Days a user account has been active.\n",
     "    - frequencey of tweets for users (per day frequency, per hour frequency, per minute frequency).\n",
     "    - Categorizing tweet text into topics as a predictor for bot or genuine."
    ]
   }
  ],
  "metadata": {
   "kernelspec": {
    "display_name": "Python 3",
    "language": "python",
    "name": "python3"
   },
   "language_info": {
    "codemirror_mode": {
     "name": "ipython",
     "version": 3
    },
    "file_extension": ".py",
    "mimetype": "text/x-python",
    "name": "python",
    "nbconvert_exporter": "python",
    "pygments_lexer": "ipython3",
    "version": "3.6.8"
   }
 },
  "nbformat": 4,
  "nbformat_minor": 2
}
