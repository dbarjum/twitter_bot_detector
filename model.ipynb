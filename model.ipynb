{
 "cells": [
   {
    "cell_type": "markdown",
    "metadata": {},
    "source": [
     "### Cleaning User Data and Model\n",
     "\n",
     "In this section we clean data related to the user and then we create and train our Neural Network model.\n",
     "\n",
     "Import functions that will be necessary throughout this section."
    ]
   },
   {
    "cell_type": "code",
    "execution_count": 1,
    "metadata": {},
    "outputs": [
     {
      "name": "stderr",
      "output_type": "stream",
      "text": [
       "Using TensorFlow backend.\n"
      ]
     }
    ],
    "source": [
     "import pandas as pd\n",
     "import numpy as np\n",
     "import os\n",
     "from sklearn.model_selection import train_test_split\n",
     "\n",
     "from keras.models import Sequential, Model\n",
     "from keras.layers import Dropout, Flatten, Dense, Activation, Input, Reshape, InputLayer, Lambda, BatchNormalization\n",
     "from keras.utils import np_utils, to_categorical\n",
     "from keras.losses import binary_crossentropy\n",
     "from keras import backend as K,objectives\n",
     "from keras.losses import mse, binary_crossentropy\n",
     "\n",
     "# from keras.layers.advanced_activations import LeakyReLU\n",
     "from keras.callbacks import EarlyStopping\n",
     "from keras.optimizers import Adam, RMSprop\n",
     "from keras.initializers import RandomNormal\n",
     "import matplotlib.pyplot as plt\n",
     "import random\n",
     "\n",
     "from sklearn.preprocessing import LabelEncoder, MinMaxScaler\n",
     "from sklearn.metrics import confusion_matrix"
    ]
   },
   {
    "cell_type": "markdown",
    "metadata": {},
    "source": [
     "We first read the data for users from the first file to create a dataframe:"
    ]
   },
   {
    "cell_type": "code",
    "execution_count": 2,
    "metadata": {
     "scrolled": true
    },
    "outputs": [
     {
      "data": {
       "text/plain": [
        "(3474, 43)"
       ]
      },
      "execution_count": 2,
      "metadata": {},
      "output_type": "execute_result"
     }
    ],
    "source": [
     "df_users = pd.read_csv(\"data/datasets_full/genuine_accounts/users.csv\")\n",
     "df_users[\"bots\"] = 0\n",
     "df_users.head()\n",
     "df_users.shape"
    ]
   },
   {
    "cell_type": "markdown",
    "metadata": {},
    "source": [
     "We create list of all the other files from which we want to read user's data and append them into the dataframe above. "
    ]
   },
   {
    "cell_type": "code",
    "execution_count": 3,
    "metadata": {},
    "outputs": [],
    "source": [
     "user_files = [\"fake_followers\", \"social_spambots_1\", \"social_spambots_2\", \"social_spambots_3\", \n",
     "              \"traditional_spambots_1\", \"traditional_spambots_2\", \"traditional_spambots_3\", \"traditional_spambots_4\"]"
    ]
   },
   {
    "cell_type": "code",
    "execution_count": 4,
    "metadata": {
     "scrolled": true
    },
    "outputs": [
     {
      "name": "stderr",
      "output_type": "stream",
      "text": [
       "/usr/share/anaconda3/lib/python3.6/site-packages/pandas/core/frame.py:6211: FutureWarning: Sorting because non-concatenation axis is not aligned. A future version\n",
       "of pandas will change to not sort by default.\n",
       "\n",
       "To accept the future behavior, pass 'sort=False'.\n",
       "\n",
       "To retain the current behavior and silence the warning, pass 'sort=True'.\n",
       "\n",
       "  sort=sort)\n"
      ]
     }
    ],
    "source": [
     "for i in user_files:\n",
     "    df_temp = pd.read_csv(\"data/datasets_full/\" + i + \"/users.csv\")\n",
     "    df_temp[\"bots\"] = 1\n",
     "#     print (i, df_temp.shape)\n",
     "    df_users = df_users.append(df_temp, ignore_index=True)\n",
     "#     print (df_users.shape)\n",
     "# print (df_users.shape)"
    ]
   },
   {
    "cell_type": "markdown",
    "metadata": {},
    "source": [
     "We Excluded columns \"test_set_1\", \"test_set_2\", which are not useful to our work, and is not consistently present in all files"
    ]
   },
   {
    "cell_type": "code",
    "execution_count": 5,
    "metadata": {},
    "outputs": [
     {
      "data": {
       "text/plain": [
        "(14368, 41)"
       ]
      },
      "execution_count": 5,
      "metadata": {},
      "output_type": "execute_result"
     }
    ],
    "source": [
     "df_users = df_users.drop([\"test_set_1\", \"test_set_2\"], axis = 1)\n",
     "df_users.shape"
    ]
   },
   {
    "cell_type": "code",
    "execution_count": 6,
    "metadata": {
     "scrolled": false
    },
    "outputs": [
     {
      "data": {
       "text/html": [
        "<div>\n",
        "<style scoped>\n",
        "    .dataframe tbody tr th:only-of-type {\n",
        "        vertical-align: middle;\n",
        "    }\n",
        "\n",
        "    .dataframe tbody tr th {\n",
        "        vertical-align: top;\n",
        "    }\n",
        "\n",
        "    .dataframe thead th {\n",
        "        text-align: right;\n",
        "    }\n",
        "</style>\n",
        "<table border=\"1\" class=\"dataframe\">\n",
        "  <thead>\n",
        "    <tr style=\"text-align: right;\">\n",
        "      <th></th>\n",
        "      <th>bots</th>\n",
        "      <th>contributors_enabled</th>\n",
        "      <th>crawled_at</th>\n",
        "      <th>created_at</th>\n",
        "      <th>default_profile</th>\n",
        "      <th>default_profile_image</th>\n",
        "      <th>description</th>\n",
        "      <th>favourites_count</th>\n",
        "      <th>follow_request_sent</th>\n",
        "      <th>followers_count</th>\n",
        "      <th>...</th>\n",
        "      <th>profile_use_background_image</th>\n",
        "      <th>protected</th>\n",
        "      <th>screen_name</th>\n",
        "      <th>statuses_count</th>\n",
        "      <th>time_zone</th>\n",
        "      <th>timestamp</th>\n",
        "      <th>updated</th>\n",
        "      <th>url</th>\n",
        "      <th>utc_offset</th>\n",
        "      <th>verified</th>\n",
        "    </tr>\n",
        "  </thead>\n",
        "  <tbody>\n",
        "    <tr>\n",
        "      <th>0</th>\n",
        "      <td>0</td>\n",
        "      <td>NaN</td>\n",
        "      <td>2015-05-02 06:41:46</td>\n",
        "      <td>Tue Jun 11 11:20:35 +0000 2013</td>\n",
        "      <td>NaN</td>\n",
        "      <td>NaN</td>\n",
        "      <td>15years ago X.Lines24</td>\n",
        "      <td>265</td>\n",
        "      <td>NaN</td>\n",
        "      <td>208</td>\n",
        "      <td>...</td>\n",
        "      <td>NaN</td>\n",
        "      <td>NaN</td>\n",
        "      <td>0918Bask</td>\n",
        "      <td>2177</td>\n",
        "      <td>NaN</td>\n",
        "      <td>2013-06-11 13:20:35</td>\n",
        "      <td>2016-03-15 15:53:47</td>\n",
        "      <td>NaN</td>\n",
        "      <td>NaN</td>\n",
        "      <td>NaN</td>\n",
        "    </tr>\n",
        "    <tr>\n",
        "      <th>1</th>\n",
        "      <td>0</td>\n",
        "      <td>NaN</td>\n",
        "      <td>2015-05-01 17:20:27</td>\n",
        "      <td>Tue May 13 10:37:57 +0000 2014</td>\n",
        "      <td>1.0</td>\n",
        "      <td>NaN</td>\n",
        "      <td>保守見習い地元大好き人間。 経済学、電工、仏教を勉強中、ちなDeではいかんのか？ (*^◯^*)</td>\n",
        "      <td>3972</td>\n",
        "      <td>NaN</td>\n",
        "      <td>330</td>\n",
        "      <td>...</td>\n",
        "      <td>1.0</td>\n",
        "      <td>NaN</td>\n",
        "      <td>1120Roll</td>\n",
        "      <td>2660</td>\n",
        "      <td>Tokyo</td>\n",
        "      <td>2014-05-13 12:37:57</td>\n",
        "      <td>2016-03-15 15:53:48</td>\n",
        "      <td>NaN</td>\n",
        "      <td>32400.0</td>\n",
        "      <td>NaN</td>\n",
        "    </tr>\n",
        "    <tr>\n",
        "      <th>2</th>\n",
        "      <td>0</td>\n",
        "      <td>NaN</td>\n",
        "      <td>2015-05-01 18:48:28</td>\n",
        "      <td>Wed May 04 23:30:37 +0000 2011</td>\n",
        "      <td>NaN</td>\n",
        "      <td>NaN</td>\n",
        "      <td>Let me see what your best move is!</td>\n",
        "      <td>1185</td>\n",
        "      <td>NaN</td>\n",
        "      <td>166</td>\n",
        "      <td>...</td>\n",
        "      <td>1.0</td>\n",
        "      <td>NaN</td>\n",
        "      <td>14KBBrown</td>\n",
        "      <td>1254</td>\n",
        "      <td>Eastern Time (US &amp; Canada)</td>\n",
        "      <td>2011-05-05 01:30:37</td>\n",
        "      <td>2016-03-15 15:53:48</td>\n",
        "      <td>NaN</td>\n",
        "      <td>-14400.0</td>\n",
        "      <td>NaN</td>\n",
        "    </tr>\n",
        "    <tr>\n",
        "      <th>3</th>\n",
        "      <td>0</td>\n",
        "      <td>NaN</td>\n",
        "      <td>2015-05-01 13:55:16</td>\n",
        "      <td>Fri Sep 17 14:02:10 +0000 2010</td>\n",
        "      <td>NaN</td>\n",
        "      <td>NaN</td>\n",
        "      <td>20. menna: #farida #nyc and the 80s actually y...</td>\n",
        "      <td>60304</td>\n",
        "      <td>NaN</td>\n",
        "      <td>2248</td>\n",
        "      <td>...</td>\n",
        "      <td>1.0</td>\n",
        "      <td>NaN</td>\n",
        "      <td>wadespeters</td>\n",
        "      <td>202968</td>\n",
        "      <td>Greenland</td>\n",
        "      <td>2010-09-17 16:02:10</td>\n",
        "      <td>2016-03-15 15:53:48</td>\n",
        "      <td>http://t.co/rGV0HIJGsu</td>\n",
        "      <td>-7200.0</td>\n",
        "      <td>NaN</td>\n",
        "    </tr>\n",
        "    <tr>\n",
        "      <th>4</th>\n",
        "      <td>0</td>\n",
        "      <td>NaN</td>\n",
        "      <td>2015-05-02 01:17:32</td>\n",
        "      <td>Fri Feb 06 04:10:49 +0000 2015</td>\n",
        "      <td>1.0</td>\n",
        "      <td>NaN</td>\n",
        "      <td>Cosmetologist</td>\n",
        "      <td>5</td>\n",
        "      <td>NaN</td>\n",
        "      <td>21</td>\n",
        "      <td>...</td>\n",
        "      <td>1.0</td>\n",
        "      <td>NaN</td>\n",
        "      <td>191a5bd05da04dc</td>\n",
        "      <td>82</td>\n",
        "      <td>NaN</td>\n",
        "      <td>2015-02-06 05:10:49</td>\n",
        "      <td>2016-03-15 15:53:48</td>\n",
        "      <td>NaN</td>\n",
        "      <td>NaN</td>\n",
        "      <td>NaN</td>\n",
        "    </tr>\n",
        "  </tbody>\n",
        "</table>\n",
        "<p>5 rows × 41 columns</p>\n",
        "</div>"
       ],
       "text/plain": [
        "   bots  contributors_enabled           crawled_at  \\\n",
        "0     0                   NaN  2015-05-02 06:41:46   \n",
        "1     0                   NaN  2015-05-01 17:20:27   \n",
        "2     0                   NaN  2015-05-01 18:48:28   \n",
        "3     0                   NaN  2015-05-01 13:55:16   \n",
        "4     0                   NaN  2015-05-02 01:17:32   \n",
        "\n",
        "                       created_at  default_profile  default_profile_image  \\\n",
        "0  Tue Jun 11 11:20:35 +0000 2013              NaN                    NaN   \n",
        "1  Tue May 13 10:37:57 +0000 2014              1.0                    NaN   \n",
        "2  Wed May 04 23:30:37 +0000 2011              NaN                    NaN   \n",
        "3  Fri Sep 17 14:02:10 +0000 2010              NaN                    NaN   \n",
        "4  Fri Feb 06 04:10:49 +0000 2015              1.0                    NaN   \n",
        "\n",
        "                                         description  favourites_count  \\\n",
        "0                              15years ago X.Lines24               265   \n",
        "1   保守見習い地元大好き人間。 経済学、電工、仏教を勉強中、ちなDeではいかんのか？ (*^◯^*)              3972   \n",
        "2                 Let me see what your best move is!              1185   \n",
        "3  20. menna: #farida #nyc and the 80s actually y...             60304   \n",
        "4                                      Cosmetologist                 5   \n",
        "\n",
        "   follow_request_sent  followers_count    ...     \\\n",
        "0                  NaN              208    ...      \n",
        "1                  NaN              330    ...      \n",
        "2                  NaN              166    ...      \n",
        "3                  NaN             2248    ...      \n",
        "4                  NaN               21    ...      \n",
        "\n",
        "   profile_use_background_image  protected      screen_name  statuses_count  \\\n",
        "0                           NaN        NaN         0918Bask            2177   \n",
        "1                           1.0        NaN         1120Roll            2660   \n",
        "2                           1.0        NaN        14KBBrown            1254   \n",
        "3                           1.0        NaN      wadespeters          202968   \n",
        "4                           1.0        NaN  191a5bd05da04dc              82   \n",
        "\n",
        "                    time_zone            timestamp              updated  \\\n",
        "0                         NaN  2013-06-11 13:20:35  2016-03-15 15:53:47   \n",
        "1                       Tokyo  2014-05-13 12:37:57  2016-03-15 15:53:48   \n",
        "2  Eastern Time (US & Canada)  2011-05-05 01:30:37  2016-03-15 15:53:48   \n",
        "3                   Greenland  2010-09-17 16:02:10  2016-03-15 15:53:48   \n",
        "4                         NaN  2015-02-06 05:10:49  2016-03-15 15:53:48   \n",
        "\n",
        "                      url utc_offset  verified  \n",
        "0                     NaN        NaN       NaN  \n",
        "1                     NaN    32400.0       NaN  \n",
        "2                     NaN   -14400.0       NaN  \n",
        "3  http://t.co/rGV0HIJGsu    -7200.0       NaN  \n",
        "4                     NaN        NaN       NaN  \n",
        "\n",
        "[5 rows x 41 columns]"
       ]
      },
      "execution_count": 6,
      "metadata": {},
      "output_type": "execute_result"
     }
    ],
    "source": [
     "df_users.head()"
    ]
   },
   {
    "cell_type": "code",
    "execution_count": 7,
    "metadata": {
     "scrolled": true
    },
    "outputs": [
     {
      "data": {
       "text/html": [
        "<div>\n",
        "<style scoped>\n",
        "    .dataframe tbody tr th:only-of-type {\n",
        "        vertical-align: middle;\n",
        "    }\n",
        "\n",
        "    .dataframe tbody tr th {\n",
        "        vertical-align: top;\n",
        "    }\n",
        "\n",
        "    .dataframe thead th {\n",
        "        text-align: right;\n",
        "    }\n",
        "</style>\n",
        "<table border=\"1\" class=\"dataframe\">\n",
        "  <thead>\n",
        "    <tr style=\"text-align: right;\">\n",
        "      <th></th>\n",
        "      <th>bots</th>\n",
        "      <th>contributors_enabled</th>\n",
        "      <th>default_profile</th>\n",
        "      <th>default_profile_image</th>\n",
        "      <th>favourites_count</th>\n",
        "      <th>follow_request_sent</th>\n",
        "      <th>followers_count</th>\n",
        "      <th>following</th>\n",
        "      <th>friends_count</th>\n",
        "      <th>geo_enabled</th>\n",
        "      <th>id</th>\n",
        "      <th>is_translator</th>\n",
        "      <th>listed_count</th>\n",
        "      <th>notifications</th>\n",
        "      <th>profile_background_tile</th>\n",
        "      <th>profile_use_background_image</th>\n",
        "      <th>protected</th>\n",
        "      <th>statuses_count</th>\n",
        "      <th>utc_offset</th>\n",
        "      <th>verified</th>\n",
        "    </tr>\n",
        "  </thead>\n",
        "  <tbody>\n",
        "    <tr>\n",
        "      <th>count</th>\n",
        "      <td>14368.000000</td>\n",
        "      <td>0.0</td>\n",
        "      <td>4511.0</td>\n",
        "      <td>78.0</td>\n",
        "      <td>14368.000000</td>\n",
        "      <td>0.0</td>\n",
        "      <td>1.436800e+04</td>\n",
        "      <td>0.0</td>\n",
        "      <td>14368.000000</td>\n",
        "      <td>3433.0</td>\n",
        "      <td>1.436800e+04</td>\n",
        "      <td>1.0</td>\n",
        "      <td>14368.000000</td>\n",
        "      <td>0.0</td>\n",
        "      <td>5501.0</td>\n",
        "      <td>12845.0</td>\n",
        "      <td>78.0</td>\n",
        "      <td>14368.000000</td>\n",
        "      <td>5350.000000</td>\n",
        "      <td>11.0</td>\n",
        "    </tr>\n",
        "    <tr>\n",
        "      <th>mean</th>\n",
        "      <td>0.758213</td>\n",
        "      <td>NaN</td>\n",
        "      <td>1.0</td>\n",
        "      <td>1.0</td>\n",
        "      <td>1145.288280</td>\n",
        "      <td>NaN</td>\n",
        "      <td>8.682774e+02</td>\n",
        "      <td>NaN</td>\n",
        "      <td>589.318834</td>\n",
        "      <td>1.0</td>\n",
        "      <td>1.121055e+09</td>\n",
        "      <td>1.0</td>\n",
        "      <td>11.173998</td>\n",
        "      <td>NaN</td>\n",
        "      <td>1.0</td>\n",
        "      <td>1.0</td>\n",
        "      <td>1.0</td>\n",
        "      <td>5063.190910</td>\n",
        "      <td>-6071.046729</td>\n",
        "      <td>1.0</td>\n",
        "    </tr>\n",
        "    <tr>\n",
        "      <th>std</th>\n",
        "      <td>0.428181</td>\n",
        "      <td>NaN</td>\n",
        "      <td>0.0</td>\n",
        "      <td>0.0</td>\n",
        "      <td>6036.894173</td>\n",
        "      <td>NaN</td>\n",
        "      <td>2.688472e+04</td>\n",
        "      <td>NaN</td>\n",
        "      <td>2665.832959</td>\n",
        "      <td>0.0</td>\n",
        "      <td>9.901599e+08</td>\n",
        "      <td>NaN</td>\n",
        "      <td>266.966297</td>\n",
        "      <td>NaN</td>\n",
        "      <td>0.0</td>\n",
        "      <td>0.0</td>\n",
        "      <td>0.0</td>\n",
        "      <td>17493.409898</td>\n",
        "      <td>18859.405855</td>\n",
        "      <td>0.0</td>\n",
        "    </tr>\n",
        "    <tr>\n",
        "      <th>min</th>\n",
        "      <td>0.000000</td>\n",
        "      <td>NaN</td>\n",
        "      <td>1.0</td>\n",
        "      <td>1.0</td>\n",
        "      <td>0.000000</td>\n",
        "      <td>NaN</td>\n",
        "      <td>0.000000e+00</td>\n",
        "      <td>NaN</td>\n",
        "      <td>0.000000</td>\n",
        "      <td>1.0</td>\n",
        "      <td>6.780330e+05</td>\n",
        "      <td>1.0</td>\n",
        "      <td>0.000000</td>\n",
        "      <td>NaN</td>\n",
        "      <td>1.0</td>\n",
        "      <td>1.0</td>\n",
        "      <td>1.0</td>\n",
        "      <td>0.000000</td>\n",
        "      <td>-39600.000000</td>\n",
        "      <td>1.0</td>\n",
        "    </tr>\n",
        "    <tr>\n",
        "      <th>25%</th>\n",
        "      <td>1.000000</td>\n",
        "      <td>NaN</td>\n",
        "      <td>1.0</td>\n",
        "      <td>1.0</td>\n",
        "      <td>0.000000</td>\n",
        "      <td>NaN</td>\n",
        "      <td>6.000000e+00</td>\n",
        "      <td>NaN</td>\n",
        "      <td>42.000000</td>\n",
        "      <td>1.0</td>\n",
        "      <td>1.950380e+08</td>\n",
        "      <td>1.0</td>\n",
        "      <td>0.000000</td>\n",
        "      <td>NaN</td>\n",
        "      <td>1.0</td>\n",
        "      <td>1.0</td>\n",
        "      <td>1.0</td>\n",
        "      <td>31.000000</td>\n",
        "      <td>-18000.000000</td>\n",
        "      <td>1.0</td>\n",
        "    </tr>\n",
        "    <tr>\n",
        "      <th>50%</th>\n",
        "      <td>1.000000</td>\n",
        "      <td>NaN</td>\n",
        "      <td>1.0</td>\n",
        "      <td>1.0</td>\n",
        "      <td>0.000000</td>\n",
        "      <td>NaN</td>\n",
        "      <td>2.500000e+01</td>\n",
        "      <td>NaN</td>\n",
        "      <td>250.000000</td>\n",
        "      <td>1.0</td>\n",
        "      <td>6.178160e+08</td>\n",
        "      <td>1.0</td>\n",
        "      <td>0.000000</td>\n",
        "      <td>NaN</td>\n",
        "      <td>1.0</td>\n",
        "      <td>1.0</td>\n",
        "      <td>1.0</td>\n",
        "      <td>63.000000</td>\n",
        "      <td>-14400.000000</td>\n",
        "      <td>1.0</td>\n",
        "    </tr>\n",
        "    <tr>\n",
        "      <th>75%</th>\n",
        "      <td>1.000000</td>\n",
        "      <td>NaN</td>\n",
        "      <td>1.0</td>\n",
        "      <td>1.0</td>\n",
        "      <td>9.000000</td>\n",
        "      <td>NaN</td>\n",
        "      <td>3.320000e+02</td>\n",
        "      <td>NaN</td>\n",
        "      <td>538.000000</td>\n",
        "      <td>1.0</td>\n",
        "      <td>2.354045e+09</td>\n",
        "      <td>1.0</td>\n",
        "      <td>3.000000</td>\n",
        "      <td>NaN</td>\n",
        "      <td>1.0</td>\n",
        "      <td>1.0</td>\n",
        "      <td>1.0</td>\n",
        "      <td>1365.250000</td>\n",
        "      <td>10800.000000</td>\n",
        "      <td>1.0</td>\n",
        "    </tr>\n",
        "    <tr>\n",
        "      <th>max</th>\n",
        "      <td>1.000000</td>\n",
        "      <td>NaN</td>\n",
        "      <td>1.0</td>\n",
        "      <td>1.0</td>\n",
        "      <td>313954.000000</td>\n",
        "      <td>NaN</td>\n",
        "      <td>2.991573e+06</td>\n",
        "      <td>NaN</td>\n",
        "      <td>211890.000000</td>\n",
        "      <td>1.0</td>\n",
        "      <td>4.331280e+09</td>\n",
        "      <td>1.0</td>\n",
        "      <td>24348.000000</td>\n",
        "      <td>NaN</td>\n",
        "      <td>1.0</td>\n",
        "      <td>1.0</td>\n",
        "      <td>1.0</td>\n",
        "      <td>399555.000000</td>\n",
        "      <td>46800.000000</td>\n",
        "      <td>1.0</td>\n",
        "    </tr>\n",
        "  </tbody>\n",
        "</table>\n",
        "</div>"
       ],
       "text/plain": [
        "               bots  contributors_enabled  default_profile  \\\n",
        "count  14368.000000                   0.0           4511.0   \n",
        "mean       0.758213                   NaN              1.0   \n",
        "std        0.428181                   NaN              0.0   \n",
        "min        0.000000                   NaN              1.0   \n",
        "25%        1.000000                   NaN              1.0   \n",
        "50%        1.000000                   NaN              1.0   \n",
        "75%        1.000000                   NaN              1.0   \n",
        "max        1.000000                   NaN              1.0   \n",
        "\n",
        "       default_profile_image  favourites_count  follow_request_sent  \\\n",
        "count                   78.0      14368.000000                  0.0   \n",
        "mean                     1.0       1145.288280                  NaN   \n",
        "std                      0.0       6036.894173                  NaN   \n",
        "min                      1.0          0.000000                  NaN   \n",
        "25%                      1.0          0.000000                  NaN   \n",
        "50%                      1.0          0.000000                  NaN   \n",
        "75%                      1.0          9.000000                  NaN   \n",
        "max                      1.0     313954.000000                  NaN   \n",
        "\n",
        "       followers_count  following  friends_count  geo_enabled            id  \\\n",
        "count     1.436800e+04        0.0   14368.000000       3433.0  1.436800e+04   \n",
        "mean      8.682774e+02        NaN     589.318834          1.0  1.121055e+09   \n",
        "std       2.688472e+04        NaN    2665.832959          0.0  9.901599e+08   \n",
        "min       0.000000e+00        NaN       0.000000          1.0  6.780330e+05   \n",
        "25%       6.000000e+00        NaN      42.000000          1.0  1.950380e+08   \n",
        "50%       2.500000e+01        NaN     250.000000          1.0  6.178160e+08   \n",
        "75%       3.320000e+02        NaN     538.000000          1.0  2.354045e+09   \n",
        "max       2.991573e+06        NaN  211890.000000          1.0  4.331280e+09   \n",
        "\n",
        "       is_translator  listed_count  notifications  profile_background_tile  \\\n",
        "count            1.0  14368.000000            0.0                   5501.0   \n",
        "mean             1.0     11.173998            NaN                      1.0   \n",
        "std              NaN    266.966297            NaN                      0.0   \n",
        "min              1.0      0.000000            NaN                      1.0   \n",
        "25%              1.0      0.000000            NaN                      1.0   \n",
        "50%              1.0      0.000000            NaN                      1.0   \n",
        "75%              1.0      3.000000            NaN                      1.0   \n",
        "max              1.0  24348.000000            NaN                      1.0   \n",
        "\n",
        "       profile_use_background_image  protected  statuses_count    utc_offset  \\\n",
        "count                       12845.0       78.0    14368.000000   5350.000000   \n",
        "mean                            1.0        1.0     5063.190910  -6071.046729   \n",
        "std                             0.0        0.0    17493.409898  18859.405855   \n",
        "min                             1.0        1.0        0.000000 -39600.000000   \n",
        "25%                             1.0        1.0       31.000000 -18000.000000   \n",
        "50%                             1.0        1.0       63.000000 -14400.000000   \n",
        "75%                             1.0        1.0     1365.250000  10800.000000   \n",
        "max                             1.0        1.0   399555.000000  46800.000000   \n",
        "\n",
        "       verified  \n",
        "count      11.0  \n",
        "mean        1.0  \n",
        "std         0.0  \n",
        "min         1.0  \n",
        "25%         1.0  \n",
        "50%         1.0  \n",
        "75%         1.0  \n",
        "max         1.0  "
       ]
      },
      "execution_count": 7,
      "metadata": {},
      "output_type": "execute_result"
     }
    ],
    "source": [
     "df_users.describe()"
    ]
   },
   {
    "cell_type": "code",
    "execution_count": 8,
    "metadata": {
     "scrolled": true
    },
    "outputs": [
     {
      "data": {
       "text/plain": [
        "(14368, 41)"
       ]
      },
      "execution_count": 8,
      "metadata": {},
      "output_type": "execute_result"
     }
    ],
    "source": [
     "df_users.shape"
    ]
   },
   {
    "cell_type": "markdown",
    "metadata": {},
    "source": [
     "We kept the variables that might have explanatory power, and/or have enough information that would be useful for our models. Many of the excluded variables did not have enough information to be useful (mostly NaNs). Others did not seem contribute at all for identifying fake tweets, for example the date in which the account was created (although we found useful the informatoin on the date in which the tweets are created, and we kept the latter). "
    ]
   },
   {
    "cell_type": "code",
    "execution_count": 9,
    "metadata": {},
    "outputs": [],
    "source": [
     "users_features_to_keep = [\"favourites_count\", \"followers_count\", \"friends_count\", \"id\", \"listed_count\", \"statuses_count\", \"bots\"]"
    ]
   },
   {
    "cell_type": "code",
    "execution_count": 10,
    "metadata": {},
    "outputs": [
     {
      "name": "stderr",
      "output_type": "stream",
      "text": [
       "/usr/share/anaconda3/lib/python3.6/site-packages/pandas/core/frame.py:3781: SettingWithCopyWarning: \n",
       "A value is trying to be set on a copy of a slice from a DataFrame\n",
       "\n",
       "See the caveats in the documentation: http://pandas.pydata.org/pandas-docs/stable/indexing.html#indexing-view-versus-copy\n",
       "  return super(DataFrame, self).rename(**kwargs)\n"
      ]
     },
     {
      "data": {
       "text/html": [
        "<div>\n",
        "<style scoped>\n",
        "    .dataframe tbody tr th:only-of-type {\n",
        "        vertical-align: middle;\n",
        "    }\n",
        "\n",
        "    .dataframe tbody tr th {\n",
        "        vertical-align: top;\n",
        "    }\n",
        "\n",
        "    .dataframe thead th {\n",
        "        text-align: right;\n",
        "    }\n",
        "</style>\n",
        "<table border=\"1\" class=\"dataframe\">\n",
        "  <thead>\n",
        "    <tr style=\"text-align: right;\">\n",
        "      <th></th>\n",
        "      <th>favourites_count</th>\n",
        "      <th>followers_count</th>\n",
        "      <th>friends_count</th>\n",
        "      <th>user_id</th>\n",
        "      <th>listed_count</th>\n",
        "      <th>statuses_count</th>\n",
        "      <th>bots</th>\n",
        "    </tr>\n",
        "  </thead>\n",
        "  <tbody>\n",
        "    <tr>\n",
        "      <th>count</th>\n",
        "      <td>14368.000000</td>\n",
        "      <td>1.436800e+04</td>\n",
        "      <td>14368.000000</td>\n",
        "      <td>1.436800e+04</td>\n",
        "      <td>14368.000000</td>\n",
        "      <td>14368.000000</td>\n",
        "      <td>14368.000000</td>\n",
        "    </tr>\n",
        "    <tr>\n",
        "      <th>mean</th>\n",
        "      <td>1145.288280</td>\n",
        "      <td>8.682774e+02</td>\n",
        "      <td>589.318834</td>\n",
        "      <td>1.121055e+09</td>\n",
        "      <td>11.173998</td>\n",
        "      <td>5063.190910</td>\n",
        "      <td>0.758213</td>\n",
        "    </tr>\n",
        "    <tr>\n",
        "      <th>std</th>\n",
        "      <td>6036.894173</td>\n",
        "      <td>2.688472e+04</td>\n",
        "      <td>2665.832959</td>\n",
        "      <td>9.901599e+08</td>\n",
        "      <td>266.966297</td>\n",
        "      <td>17493.409898</td>\n",
        "      <td>0.428181</td>\n",
        "    </tr>\n",
        "    <tr>\n",
        "      <th>min</th>\n",
        "      <td>0.000000</td>\n",
        "      <td>0.000000e+00</td>\n",
        "      <td>0.000000</td>\n",
        "      <td>6.780330e+05</td>\n",
        "      <td>0.000000</td>\n",
        "      <td>0.000000</td>\n",
        "      <td>0.000000</td>\n",
        "    </tr>\n",
        "    <tr>\n",
        "      <th>25%</th>\n",
        "      <td>0.000000</td>\n",
        "      <td>6.000000e+00</td>\n",
        "      <td>42.000000</td>\n",
        "      <td>1.950380e+08</td>\n",
        "      <td>0.000000</td>\n",
        "      <td>31.000000</td>\n",
        "      <td>1.000000</td>\n",
        "    </tr>\n",
        "    <tr>\n",
        "      <th>50%</th>\n",
        "      <td>0.000000</td>\n",
        "      <td>2.500000e+01</td>\n",
        "      <td>250.000000</td>\n",
        "      <td>6.178160e+08</td>\n",
        "      <td>0.000000</td>\n",
        "      <td>63.000000</td>\n",
        "      <td>1.000000</td>\n",
        "    </tr>\n",
        "    <tr>\n",
        "      <th>75%</th>\n",
        "      <td>9.000000</td>\n",
        "      <td>3.320000e+02</td>\n",
        "      <td>538.000000</td>\n",
        "      <td>2.354045e+09</td>\n",
        "      <td>3.000000</td>\n",
        "      <td>1365.250000</td>\n",
        "      <td>1.000000</td>\n",
        "    </tr>\n",
        "    <tr>\n",
        "      <th>max</th>\n",
        "      <td>313954.000000</td>\n",
        "      <td>2.991573e+06</td>\n",
        "      <td>211890.000000</td>\n",
        "      <td>4.331280e+09</td>\n",
        "      <td>24348.000000</td>\n",
        "      <td>399555.000000</td>\n",
        "      <td>1.000000</td>\n",
        "    </tr>\n",
        "  </tbody>\n",
        "</table>\n",
        "</div>"
       ],
       "text/plain": [
        "       favourites_count  followers_count  friends_count       user_id  \\\n",
        "count      14368.000000     1.436800e+04   14368.000000  1.436800e+04   \n",
        "mean        1145.288280     8.682774e+02     589.318834  1.121055e+09   \n",
        "std         6036.894173     2.688472e+04    2665.832959  9.901599e+08   \n",
        "min            0.000000     0.000000e+00       0.000000  6.780330e+05   \n",
        "25%            0.000000     6.000000e+00      42.000000  1.950380e+08   \n",
        "50%            0.000000     2.500000e+01     250.000000  6.178160e+08   \n",
        "75%            9.000000     3.320000e+02     538.000000  2.354045e+09   \n",
        "max       313954.000000     2.991573e+06  211890.000000  4.331280e+09   \n",
        "\n",
        "       listed_count  statuses_count          bots  \n",
        "count  14368.000000    14368.000000  14368.000000  \n",
        "mean      11.173998     5063.190910      0.758213  \n",
        "std      266.966297    17493.409898      0.428181  \n",
        "min        0.000000        0.000000      0.000000  \n",
        "25%        0.000000       31.000000      1.000000  \n",
        "50%        0.000000       63.000000      1.000000  \n",
        "75%        3.000000     1365.250000      1.000000  \n",
        "max    24348.000000   399555.000000      1.000000  "
       ]
      },
      "execution_count": 10,
      "metadata": {},
      "output_type": "execute_result"
     }
    ],
    "source": [
     "df_users_clean = df_users[users_features_to_keep]\n",
     "df_users_clean.rename(columns={'id': 'user_id'}, inplace=True)\n",
     "df_users_clean.describe()"
    ]
   },
   {
    "cell_type": "code",
    "execution_count": 11,
    "metadata": {},
    "outputs": [
     {
      "data": {
       "text/plain": [
        "(14368, 7)"
       ]
      },
      "execution_count": 11,
      "metadata": {},
      "output_type": "execute_result"
     }
    ],
    "source": [
     "df_users_clean.shape"
    ]
   },
   {
    "cell_type": "code",
    "execution_count": 12,
    "metadata": {},
    "outputs": [],
    "source": [
     "df_users_clean.to_csv(\"data/clean_users.csv\", index=False)"
    ]
   },
   {
    "cell_type": "markdown",
    "metadata": {},
    "source": [
     "### Modeling"
    ]
   },
   {
    "cell_type": "markdown",
    "metadata": {},
    "source": [
     "For modeling, we take two approaches, we created a baseline model and then improve upon it. Both models are neural nets and produce a probability between 0 and 1 about whether a user is a bot (1) or not (0). Our networks estimate the probability that a given tweet comes from a bot or from a genuine account, we then average the probabilities of the tweets for a given user in order to estimate the probability that the user is a bot or not. In other words, this is a two step process:\n",
     "1. Neural network predicts if a given tweet is from bot or not.\n",
     "2. Average of predictions for each user is generated to predict whether a user is bot or not.\n",
     "\n",
     "We do this as it is difficult to abstract from a single tweet (observation) if an account is genuine or from bot."
    ]
   },
   {
    "cell_type": "markdown",
    "metadata": {},
    "source": [
     "We begin by reading in the cleaned datasets that we did and merge them together."
    ]
   },
   {
    "cell_type": "code",
    "execution_count": 13,
    "metadata": {
     "scrolled": true
    },
    "outputs": [
     {
      "name": "stderr",
      "output_type": "stream",
      "text": [
       "/usr/share/anaconda3/lib/python3.6/site-packages/numpy/lib/arraysetops.py:522: FutureWarning: elementwise comparison failed; returning scalar instead, but in the future will perform elementwise comparison\n",
       "  mask |= (ar1 == a)\n"
      ]
     },
     {
      "name": "stdout",
      "output_type": "stream",
      "text": [
       "CPU times: user 31.7 s, sys: 4.26 s, total: 35.9 s\n",
       "Wall time: 34 s\n"
      ]
     }
    ],
    "source": [
     "%%time \n",
     "df_tweets = pd.read_csv(\"data/clean_tweets.csv\", index_col=0)\n",
     "df_users = pd.read_csv(\"data/clean_users.csv\")\n",
     "df_NN = df_tweets.merge(df_users, on=\"user_id\", how=\"left\").fillna(\"\")"
    ]
   },
   {
    "cell_type": "code",
    "execution_count": 14,
    "metadata": {},
    "outputs": [
     {
      "name": "stdout",
      "output_type": "stream",
      "text": [
       "(6492521, 30)\n",
       "(14368, 7)\n",
       "(6492521, 36)\n"
      ]
     }
    ],
    "source": [
     "print(df_tweets.shape)\n",
     "print(df_users.shape)\n",
     "print(df_NN.shape)"
    ]
   },
   {
    "cell_type": "code",
    "execution_count": 15,
    "metadata": {
     "scrolled": true
    },
    "outputs": [
     {
      "data": {
       "text/plain": [
        "0.0"
       ]
      },
      "execution_count": 15,
      "metadata": {},
      "output_type": "execute_result"
     }
    ],
    "source": [
     "sum(abs(df_NN.bots_x - df_NN.bots_y))"
    ]
   },
   {
    "cell_type": "code",
    "execution_count": 16,
    "metadata": {},
    "outputs": [],
    "source": [
     "df_NN[\"bots\"] = df_NN.bots_x\n",
     "# df_NN.columns\n",
     "df_NN = df_NN.drop(columns = [\"bots_x\", \"bots_y\"])\n",
     "# df_NN.columns"
    ]
   },
   {
    "cell_type": "code",
    "execution_count": 17,
    "metadata": {},
    "outputs": [
     {
      "data": {
       "text/html": [
        "<div>\n",
        "<style scoped>\n",
        "    .dataframe tbody tr th:only-of-type {\n",
        "        vertical-align: middle;\n",
        "    }\n",
        "\n",
        "    .dataframe tbody tr th {\n",
        "        vertical-align: top;\n",
        "    }\n",
        "\n",
        "    .dataframe thead th {\n",
        "        text-align: right;\n",
        "    }\n",
        "</style>\n",
        "<table border=\"1\" class=\"dataframe\">\n",
        "  <thead>\n",
        "    <tr style=\"text-align: right;\">\n",
        "      <th></th>\n",
        "      <th>favorite_count</th>\n",
        "      <th>num_hashtags</th>\n",
        "      <th>num_mentions</th>\n",
        "      <th>num_urls</th>\n",
        "      <th>reply_count</th>\n",
        "      <th>retweet_count</th>\n",
        "      <th>user_id</th>\n",
        "      <th>reply</th>\n",
        "      <th>location_data</th>\n",
        "      <th>num_words</th>\n",
        "      <th>...</th>\n",
        "      <th>day</th>\n",
        "      <th>hour</th>\n",
        "      <th>minute</th>\n",
        "      <th>second</th>\n",
        "      <th>favourites_count</th>\n",
        "      <th>followers_count</th>\n",
        "      <th>friends_count</th>\n",
        "      <th>listed_count</th>\n",
        "      <th>statuses_count</th>\n",
        "      <th>bots</th>\n",
        "    </tr>\n",
        "  </thead>\n",
        "  <tbody>\n",
        "    <tr>\n",
        "      <th>count</th>\n",
        "      <td>6.492521e+06</td>\n",
        "      <td>6.492521e+06</td>\n",
        "      <td>6.492521e+06</td>\n",
        "      <td>6.492521e+06</td>\n",
        "      <td>6.492521e+06</td>\n",
        "      <td>6.492521e+06</td>\n",
        "      <td>6.492521e+06</td>\n",
        "      <td>6.492521e+06</td>\n",
        "      <td>6.492521e+06</td>\n",
        "      <td>6.492521e+06</td>\n",
        "      <td>...</td>\n",
        "      <td>6.492521e+06</td>\n",
        "      <td>6.492521e+06</td>\n",
        "      <td>6.492521e+06</td>\n",
        "      <td>6.492521e+06</td>\n",
        "      <td>6.492521e+06</td>\n",
        "      <td>6.492521e+06</td>\n",
        "      <td>6.492521e+06</td>\n",
        "      <td>6.492521e+06</td>\n",
        "      <td>6.492521e+06</td>\n",
        "      <td>6.492521e+06</td>\n",
        "    </tr>\n",
        "    <tr>\n",
        "      <th>mean</th>\n",
        "      <td>2.405442e+00</td>\n",
        "      <td>1.565306e-01</td>\n",
        "      <td>3.924238e-01</td>\n",
        "      <td>1.897788e-01</td>\n",
        "      <td>2.912012e-02</td>\n",
        "      <td>3.918497e+02</td>\n",
        "      <td>7.325286e+08</td>\n",
        "      <td>1.583126e-01</td>\n",
        "      <td>1.981526e-02</td>\n",
        "      <td>1.255200e+01</td>\n",
        "      <td>...</td>\n",
        "      <td>1.655101e+01</td>\n",
        "      <td>1.230295e+01</td>\n",
        "      <td>2.936419e+01</td>\n",
        "      <td>2.941542e+01</td>\n",
        "      <td>2.500700e+03</td>\n",
        "      <td>2.328122e+03</td>\n",
        "      <td>1.338941e+03</td>\n",
        "      <td>2.174600e+01</td>\n",
        "      <td>1.405835e+04</td>\n",
        "      <td>5.626720e-01</td>\n",
        "    </tr>\n",
        "    <tr>\n",
        "      <th>std</th>\n",
        "      <td>3.350790e+02</td>\n",
        "      <td>5.931723e-01</td>\n",
        "      <td>7.243254e-01</td>\n",
        "      <td>3.978721e-01</td>\n",
        "      <td>1.490583e+01</td>\n",
        "      <td>1.112564e+04</td>\n",
        "      <td>7.495175e+08</td>\n",
        "      <td>3.650339e-01</td>\n",
        "      <td>1.393651e-01</td>\n",
        "      <td>6.678471e+00</td>\n",
        "      <td>...</td>\n",
        "      <td>9.296943e+00</td>\n",
        "      <td>7.035330e+00</td>\n",
        "      <td>1.737085e+01</td>\n",
        "      <td>1.736926e+01</td>\n",
        "      <td>7.913393e+03</td>\n",
        "      <td>2.472806e+04</td>\n",
        "      <td>3.179826e+03</td>\n",
        "      <td>1.504893e+02</td>\n",
        "      <td>2.699921e+04</td>\n",
        "      <td>4.960567e-01</td>\n",
        "    </tr>\n",
        "    <tr>\n",
        "      <th>min</th>\n",
        "      <td>-1.000000e+00</td>\n",
        "      <td>0.000000e+00</td>\n",
        "      <td>0.000000e+00</td>\n",
        "      <td>0.000000e+00</td>\n",
        "      <td>0.000000e+00</td>\n",
        "      <td>0.000000e+00</td>\n",
        "      <td>6.780330e+05</td>\n",
        "      <td>0.000000e+00</td>\n",
        "      <td>0.000000e+00</td>\n",
        "      <td>0.000000e+00</td>\n",
        "      <td>...</td>\n",
        "      <td>1.000000e+00</td>\n",
        "      <td>0.000000e+00</td>\n",
        "      <td>0.000000e+00</td>\n",
        "      <td>0.000000e+00</td>\n",
        "      <td>0.000000e+00</td>\n",
        "      <td>0.000000e+00</td>\n",
        "      <td>0.000000e+00</td>\n",
        "      <td>0.000000e+00</td>\n",
        "      <td>0.000000e+00</td>\n",
        "      <td>0.000000e+00</td>\n",
        "    </tr>\n",
        "    <tr>\n",
        "      <th>25%</th>\n",
        "      <td>0.000000e+00</td>\n",
        "      <td>0.000000e+00</td>\n",
        "      <td>0.000000e+00</td>\n",
        "      <td>0.000000e+00</td>\n",
        "      <td>0.000000e+00</td>\n",
        "      <td>0.000000e+00</td>\n",
        "      <td>2.158760e+08</td>\n",
        "      <td>0.000000e+00</td>\n",
        "      <td>0.000000e+00</td>\n",
        "      <td>7.000000e+00</td>\n",
        "      <td>...</td>\n",
        "      <td>8.000000e+00</td>\n",
        "      <td>6.000000e+00</td>\n",
        "      <td>1.400000e+01</td>\n",
        "      <td>1.400000e+01</td>\n",
        "      <td>0.000000e+00</td>\n",
        "      <td>1.770000e+02</td>\n",
        "      <td>1.980000e+02</td>\n",
        "      <td>0.000000e+00</td>\n",
        "      <td>4.900000e+02</td>\n",
        "      <td>0.000000e+00</td>\n",
        "    </tr>\n",
        "    <tr>\n",
        "      <th>50%</th>\n",
        "      <td>0.000000e+00</td>\n",
        "      <td>0.000000e+00</td>\n",
        "      <td>0.000000e+00</td>\n",
        "      <td>0.000000e+00</td>\n",
        "      <td>0.000000e+00</td>\n",
        "      <td>0.000000e+00</td>\n",
        "      <td>4.836202e+08</td>\n",
        "      <td>0.000000e+00</td>\n",
        "      <td>0.000000e+00</td>\n",
        "      <td>1.200000e+01</td>\n",
        "      <td>...</td>\n",
        "      <td>1.700000e+01</td>\n",
        "      <td>1.300000e+01</td>\n",
        "      <td>2.900000e+01</td>\n",
        "      <td>2.900000e+01</td>\n",
        "      <td>2.000000e+00</td>\n",
        "      <td>6.080000e+02</td>\n",
        "      <td>6.040000e+02</td>\n",
        "      <td>3.000000e+00</td>\n",
        "      <td>7.411000e+03</td>\n",
        "      <td>1.000000e+00</td>\n",
        "    </tr>\n",
        "    <tr>\n",
        "      <th>75%</th>\n",
        "      <td>0.000000e+00</td>\n",
        "      <td>0.000000e+00</td>\n",
        "      <td>1.000000e+00</td>\n",
        "      <td>0.000000e+00</td>\n",
        "      <td>0.000000e+00</td>\n",
        "      <td>0.000000e+00</td>\n",
        "      <td>6.162066e+08</td>\n",
        "      <td>0.000000e+00</td>\n",
        "      <td>0.000000e+00</td>\n",
        "      <td>1.800000e+01</td>\n",
        "      <td>...</td>\n",
        "      <td>2.500000e+01</td>\n",
        "      <td>1.800000e+01</td>\n",
        "      <td>4.400000e+01</td>\n",
        "      <td>4.400000e+01</td>\n",
        "      <td>1.632000e+03</td>\n",
        "      <td>1.234000e+03</td>\n",
        "      <td>1.652000e+03</td>\n",
        "      <td>9.000000e+00</td>\n",
        "      <td>1.263900e+04</td>\n",
        "      <td>1.000000e+00</td>\n",
        "    </tr>\n",
        "    <tr>\n",
        "      <th>max</th>\n",
        "      <td>1.353000e+05</td>\n",
        "      <td>2.800000e+01</td>\n",
        "      <td>1.900000e+01</td>\n",
        "      <td>6.000000e+00</td>\n",
        "      <td>2.751600e+04</td>\n",
        "      <td>3.350111e+06</td>\n",
        "      <td>2.525273e+09</td>\n",
        "      <td>1.000000e+00</td>\n",
        "      <td>1.000000e+00</td>\n",
        "      <td>6.900000e+01</td>\n",
        "      <td>...</td>\n",
        "      <td>3.100000e+01</td>\n",
        "      <td>2.300000e+01</td>\n",
        "      <td>5.900000e+01</td>\n",
        "      <td>5.900000e+01</td>\n",
        "      <td>1.854670e+05</td>\n",
        "      <td>9.868370e+05</td>\n",
        "      <td>9.086100e+04</td>\n",
        "      <td>4.840000e+03</td>\n",
        "      <td>3.335040e+05</td>\n",
        "      <td>1.000000e+00</td>\n",
        "    </tr>\n",
        "  </tbody>\n",
        "</table>\n",
        "<p>8 rows × 32 columns</p>\n",
        "</div>"
       ],
       "text/plain": [
        "       favorite_count  num_hashtags  num_mentions      num_urls   reply_count  \\\n",
        "count    6.492521e+06  6.492521e+06  6.492521e+06  6.492521e+06  6.492521e+06   \n",
        "mean     2.405442e+00  1.565306e-01  3.924238e-01  1.897788e-01  2.912012e-02   \n",
        "std      3.350790e+02  5.931723e-01  7.243254e-01  3.978721e-01  1.490583e+01   \n",
        "min     -1.000000e+00  0.000000e+00  0.000000e+00  0.000000e+00  0.000000e+00   \n",
        "25%      0.000000e+00  0.000000e+00  0.000000e+00  0.000000e+00  0.000000e+00   \n",
        "50%      0.000000e+00  0.000000e+00  0.000000e+00  0.000000e+00  0.000000e+00   \n",
        "75%      0.000000e+00  0.000000e+00  1.000000e+00  0.000000e+00  0.000000e+00   \n",
        "max      1.353000e+05  2.800000e+01  1.900000e+01  6.000000e+00  2.751600e+04   \n",
        "\n",
        "       retweet_count       user_id         reply  location_data     num_words  \\\n",
        "count   6.492521e+06  6.492521e+06  6.492521e+06   6.492521e+06  6.492521e+06   \n",
        "mean    3.918497e+02  7.325286e+08  1.583126e-01   1.981526e-02  1.255200e+01   \n",
        "std     1.112564e+04  7.495175e+08  3.650339e-01   1.393651e-01  6.678471e+00   \n",
        "min     0.000000e+00  6.780330e+05  0.000000e+00   0.000000e+00  0.000000e+00   \n",
        "25%     0.000000e+00  2.158760e+08  0.000000e+00   0.000000e+00  7.000000e+00   \n",
        "50%     0.000000e+00  4.836202e+08  0.000000e+00   0.000000e+00  1.200000e+01   \n",
        "75%     0.000000e+00  6.162066e+08  0.000000e+00   0.000000e+00  1.800000e+01   \n",
        "max     3.350111e+06  2.525273e+09  1.000000e+00   1.000000e+00  6.900000e+01   \n",
        "\n",
        "           ...                day          hour        minute        second  \\\n",
        "count      ...       6.492521e+06  6.492521e+06  6.492521e+06  6.492521e+06   \n",
        "mean       ...       1.655101e+01  1.230295e+01  2.936419e+01  2.941542e+01   \n",
        "std        ...       9.296943e+00  7.035330e+00  1.737085e+01  1.736926e+01   \n",
        "min        ...       1.000000e+00  0.000000e+00  0.000000e+00  0.000000e+00   \n",
        "25%        ...       8.000000e+00  6.000000e+00  1.400000e+01  1.400000e+01   \n",
        "50%        ...       1.700000e+01  1.300000e+01  2.900000e+01  2.900000e+01   \n",
        "75%        ...       2.500000e+01  1.800000e+01  4.400000e+01  4.400000e+01   \n",
        "max        ...       3.100000e+01  2.300000e+01  5.900000e+01  5.900000e+01   \n",
        "\n",
        "       favourites_count  followers_count  friends_count  listed_count  \\\n",
        "count      6.492521e+06     6.492521e+06   6.492521e+06  6.492521e+06   \n",
        "mean       2.500700e+03     2.328122e+03   1.338941e+03  2.174600e+01   \n",
        "std        7.913393e+03     2.472806e+04   3.179826e+03  1.504893e+02   \n",
        "min        0.000000e+00     0.000000e+00   0.000000e+00  0.000000e+00   \n",
        "25%        0.000000e+00     1.770000e+02   1.980000e+02  0.000000e+00   \n",
        "50%        2.000000e+00     6.080000e+02   6.040000e+02  3.000000e+00   \n",
        "75%        1.632000e+03     1.234000e+03   1.652000e+03  9.000000e+00   \n",
        "max        1.854670e+05     9.868370e+05   9.086100e+04  4.840000e+03   \n",
        "\n",
        "       statuses_count          bots  \n",
        "count    6.492521e+06  6.492521e+06  \n",
        "mean     1.405835e+04  5.626720e-01  \n",
        "std      2.699921e+04  4.960567e-01  \n",
        "min      0.000000e+00  0.000000e+00  \n",
        "25%      4.900000e+02  0.000000e+00  \n",
        "50%      7.411000e+03  1.000000e+00  \n",
        "75%      1.263900e+04  1.000000e+00  \n",
        "max      3.335040e+05  1.000000e+00  \n",
        "\n",
        "[8 rows x 32 columns]"
       ]
      },
      "execution_count": 17,
      "metadata": {},
      "output_type": "execute_result"
     }
    ],
    "source": [
     "df_NN.describe()"
    ]
   },
   {
    "cell_type": "code",
    "execution_count": 18,
    "metadata": {},
    "outputs": [
     {
      "data": {
       "text/plain": [
        "created_at                    0\n",
        "favorite_count                0\n",
        "num_hashtags                  0\n",
        "num_mentions                  0\n",
        "num_urls                      0\n",
        "reply_count                   0\n",
        "retweet_count                 0\n",
        "text                          0\n",
        "timestamp                     0\n",
        "user_id                       0\n",
        "reply                         0\n",
        "location_data                 0\n",
        "num_words                     0\n",
        "source_Facebook               0\n",
        "source_Instagram              0\n",
        "source_TweetAdder v4          0\n",
        "source_TweetDeck              0\n",
        "source_Twitter Web Client     0\n",
        "source_Twitter for Android    0\n",
        "source_Twitter for Mac        0\n",
        "source_Twitter for iPad       0\n",
        "source_Twitter for iPhone     0\n",
        "source_other                  0\n",
        "year                          0\n",
        "month                         0\n",
        "day                           0\n",
        "hour                          0\n",
        "minute                        0\n",
        "second                        0\n",
        "favourites_count              0\n",
        "followers_count               0\n",
        "friends_count                 0\n",
        "listed_count                  0\n",
        "statuses_count                0\n",
        "bots                          0\n",
        "dtype: int64"
       ]
      },
      "execution_count": 18,
      "metadata": {},
      "output_type": "execute_result"
     }
    ],
    "source": [
     "df_NN.isna().sum()"
    ]
   },
   {
    "cell_type": "markdown",
    "metadata": {},
    "source": [
     "Once we merged the datasets and have a single datasets with no missing information, we prepare the data for analysis. An important step is to split the test and train data based on users as the labeling form the researchers came as such. In other words, the label for bot or not bot is at the user level and not at the tweet level. As such, we make sure to separate train and test at user level first. \n",
     "\n",
     "Another way to put it, we randomly select 20% of users and create a test set of the tweets and features pertaining to these users. Information from these users will not be contained in the training set."
    ]
   },
   {
    "cell_type": "code",
    "execution_count": 19,
    "metadata": {},
    "outputs": [],
    "source": [
     "unique_users = df_NN.user_id.unique()"
    ]
   },
   {
    "cell_type": "code",
    "execution_count": 20,
    "metadata": {},
    "outputs": [],
    "source": [
     "np.random.seed(42)\n",
     "user_id_test = np.random.choice(unique_users, size = int(0.2*len(unique_users)))"
    ]
   },
   {
    "cell_type": "code",
    "execution_count": 21,
    "metadata": {},
    "outputs": [],
    "source": [
     "# save test users to csv in order to compare results with botometer\n",
     "# np.savetxt('data/user_id_test.csv', user_id_test, delimiter=\",\")"
    ]
   },
   {
    "cell_type": "code",
    "execution_count": 22,
    "metadata": {
     "scrolled": true
    },
    "outputs": [],
    "source": [
     "test_df_by_usr = df_NN[df_NN.user_id.isin(user_id_test)]"
    ]
   },
   {
    "cell_type": "code",
    "execution_count": 23,
    "metadata": {},
    "outputs": [],
    "source": [
     "train_df_by_user = df_NN[df_NN.user_id.isin(set(user_id_test)^set(unique_users))]"
    ]
   },
   {
    "cell_type": "code",
    "execution_count": 24,
    "metadata": {},
    "outputs": [],
    "source": [
     "# Take a sample of the data, so that training does not take too long when debugging.\n",
     "# df_NN = df_NN.sample(n=10**6, random_state = 42)\n",
     "# df_NN.shape"
    ]
   },
   {
    "cell_type": "markdown",
    "metadata": {},
    "source": [
     "Separate X data (data of features to be used for prediction) and Y data (class)."
    ]
   },
   {
    "cell_type": "code",
    "execution_count": 25,
    "metadata": {},
    "outputs": [],
    "source": [
     "y_df_NN = train_df_by_user.bots\n",
     "X_df_NN = train_df_by_user.drop(columns = [\"created_at\", \"text\", \"timestamp\", \"user_id\",\n",
     "                                           \"bots\", \"year\", \"month\", \"day\", \"hour\", \"minute\"], axis = 1)"
    ]
   },
   {
    "cell_type": "markdown",
    "metadata": {},
    "source": [
     "Train and test split, and check that it worked"
    ]
   },
   {
    "cell_type": "code",
    "execution_count": 26,
    "metadata": {},
    "outputs": [],
    "source": [
     "# splitting the dataset into train and test\n",
     "X_train, X_test, y_train, y_test = train_test_split(X_df_NN, y_df_NN, test_size=0.3, random_state=42, stratify = y_df_NN)"
    ]
   },
   {
    "cell_type": "code",
    "execution_count": 27,
    "metadata": {},
    "outputs": [
     {
      "data": {
       "text/plain": [
        "0.7"
       ]
      },
      "execution_count": 27,
      "metadata": {},
      "output_type": "execute_result"
     }
    ],
    "source": [
     "# testing split\n",
     "X_train.shape[0]/(X_train.shape[0] + X_test.shape[0])\n",
     "# y_train.shape"
    ]
   },
   {
    "cell_type": "code",
    "execution_count": 28,
    "metadata": {},
    "outputs": [
     {
      "data": {
       "text/plain": [
        "1.0    2107330\n",
        "0.0    1601494\n",
        "Name: bots, dtype: int64"
       ]
      },
      "execution_count": 28,
      "metadata": {},
      "output_type": "execute_result"
     }
    ],
    "source": [
     "y_train.value_counts()"
    ]
   },
   {
    "cell_type": "code",
    "execution_count": 29,
    "metadata": {
     "scrolled": true
    },
    "outputs": [
     {
      "name": "stdout",
      "output_type": "stream",
      "text": [
       "0.4318064162656411\n",
       "0.4318060567626468\n"
      ]
     }
    ],
    "source": [
     "# testing that stratify worked as wanted\n",
     "print (y_train.value_counts()[0]/(y_train.value_counts()[1]+y_train.value_counts()[0]))\n",
     "print (y_test.value_counts()[0]/(y_test.value_counts()[1]+y_test.value_counts()[0]))"
    ]
   },
   {
    "cell_type": "code",
    "execution_count": 30,
    "metadata": {},
    "outputs": [
     {
      "data": {
       "text/plain": [
        "['favorite_count',\n",
        " 'num_hashtags',\n",
        " 'num_mentions',\n",
        " 'num_urls',\n",
        " 'reply_count',\n",
        " 'retweet_count',\n",
        " 'reply',\n",
        " 'location_data',\n",
        " 'num_words',\n",
        " 'source_Facebook',\n",
        " 'source_Instagram',\n",
        " 'source_TweetAdder v4',\n",
        " 'source_TweetDeck',\n",
        " 'source_Twitter Web Client',\n",
        " 'source_Twitter for Android',\n",
        " 'source_Twitter for Mac',\n",
        " 'source_Twitter for iPad',\n",
        " 'source_Twitter for iPhone',\n",
        " 'source_other',\n",
        " 'second',\n",
        " 'favourites_count',\n",
        " 'followers_count',\n",
        " 'friends_count',\n",
        " 'listed_count',\n",
        " 'statuses_count']"
       ]
      },
      "execution_count": 30,
      "metadata": {},
      "output_type": "execute_result"
     }
    ],
    "source": [
     "list(X_train.columns)"
    ]
   },
   {
    "cell_type": "code",
    "execution_count": 31,
    "metadata": {},
    "outputs": [
     {
      "name": "stderr",
      "output_type": "stream",
      "text": [
       "/usr/share/anaconda3/lib/python3.6/site-packages/sklearn/preprocessing/data.py:323: DataConversionWarning: Data with input dtype int64, float64 were all converted to float64 by MinMaxScaler.\n",
       "  return self.partial_fit(X, y)\n"
      ]
     }
    ],
    "source": [
     "# Preprocessing the data: first step will be to create a normalized dataframe  \n",
     "\n",
     "scaler = MinMaxScaler()\n",
     "\n",
     "transformer = scaler.fit(X_train)\n",
     "X_train_scaled = pd.DataFrame(transformer.transform(X_train))\n",
     "\n",
     "X_test_scaled = pd.DataFrame(transformer.transform(X_test))"
    ]
   },
   {
    "cell_type": "markdown",
    "metadata": {},
    "source": [
     "Check to see that normalization of features worked."
    ]
   },
   {
    "cell_type": "code",
    "execution_count": 32,
    "metadata": {},
    "outputs": [
     {
      "data": {
       "text/html": [
        "<div>\n",
        "<style scoped>\n",
        "    .dataframe tbody tr th:only-of-type {\n",
        "        vertical-align: middle;\n",
        "    }\n",
        "\n",
        "    .dataframe tbody tr th {\n",
        "        vertical-align: top;\n",
        "    }\n",
        "\n",
        "    .dataframe thead th {\n",
        "        text-align: right;\n",
        "    }\n",
        "</style>\n",
        "<table border=\"1\" class=\"dataframe\">\n",
        "  <thead>\n",
        "    <tr style=\"text-align: right;\">\n",
        "      <th></th>\n",
        "      <th>0</th>\n",
        "      <th>1</th>\n",
        "      <th>2</th>\n",
        "      <th>3</th>\n",
        "      <th>4</th>\n",
        "      <th>5</th>\n",
        "      <th>6</th>\n",
        "      <th>7</th>\n",
        "      <th>8</th>\n",
        "      <th>9</th>\n",
        "      <th>...</th>\n",
        "      <th>15</th>\n",
        "      <th>16</th>\n",
        "      <th>17</th>\n",
        "      <th>18</th>\n",
        "      <th>19</th>\n",
        "      <th>20</th>\n",
        "      <th>21</th>\n",
        "      <th>22</th>\n",
        "      <th>23</th>\n",
        "      <th>24</th>\n",
        "    </tr>\n",
        "  </thead>\n",
        "  <tbody>\n",
        "    <tr>\n",
        "      <th>count</th>\n",
        "      <td>3.708824e+06</td>\n",
        "      <td>3.708824e+06</td>\n",
        "      <td>3.708824e+06</td>\n",
        "      <td>3.708824e+06</td>\n",
        "      <td>3.708824e+06</td>\n",
        "      <td>3.708824e+06</td>\n",
        "      <td>3.708824e+06</td>\n",
        "      <td>3.708824e+06</td>\n",
        "      <td>3.708824e+06</td>\n",
        "      <td>3.708824e+06</td>\n",
        "      <td>...</td>\n",
        "      <td>3.708824e+06</td>\n",
        "      <td>3.708824e+06</td>\n",
        "      <td>3.708824e+06</td>\n",
        "      <td>3.708824e+06</td>\n",
        "      <td>3.708824e+06</td>\n",
        "      <td>3.708824e+06</td>\n",
        "      <td>3.708824e+06</td>\n",
        "      <td>3.708824e+06</td>\n",
        "      <td>3.708824e+06</td>\n",
        "      <td>3.708824e+06</td>\n",
        "    </tr>\n",
        "    <tr>\n",
        "      <th>mean</th>\n",
        "      <td>2.420196e-05</td>\n",
        "      <td>5.485162e-03</td>\n",
        "      <td>2.045787e-02</td>\n",
        "      <td>3.187228e-02</td>\n",
        "      <td>1.423564e-06</td>\n",
        "      <td>1.172674e-04</td>\n",
        "      <td>1.579781e-01</td>\n",
        "      <td>1.979846e-02</td>\n",
        "      <td>1.821568e-01</td>\n",
        "      <td>1.342717e-02</td>\n",
        "      <td>...</td>\n",
        "      <td>4.377938e-03</td>\n",
        "      <td>1.520806e-02</td>\n",
        "      <td>1.807476e-01</td>\n",
        "      <td>3.244430e-01</td>\n",
        "      <td>4.984980e-01</td>\n",
        "      <td>1.297191e-02</td>\n",
        "      <td>2.461070e-03</td>\n",
        "      <td>3.394426e-02</td>\n",
        "      <td>4.460104e-03</td>\n",
        "      <td>4.039490e-02</td>\n",
        "    </tr>\n",
        "    <tr>\n",
        "      <th>std</th>\n",
        "      <td>2.129653e-03</td>\n",
        "      <td>2.061854e-02</td>\n",
        "      <td>3.788882e-02</td>\n",
        "      <td>6.638563e-02</td>\n",
        "      <td>6.523086e-04</td>\n",
        "      <td>3.267120e-03</td>\n",
        "      <td>3.647205e-01</td>\n",
        "      <td>1.393072e-01</td>\n",
        "      <td>9.657781e-02</td>\n",
        "      <td>1.150951e-01</td>\n",
        "      <td>...</td>\n",
        "      <td>6.602100e-02</td>\n",
        "      <td>1.223796e-01</td>\n",
        "      <td>3.848090e-01</td>\n",
        "      <td>4.681664e-01</td>\n",
        "      <td>2.943571e-01</td>\n",
        "      <td>4.280644e-02</td>\n",
        "      <td>2.769149e-02</td>\n",
        "      <td>5.840290e-02</td>\n",
        "      <td>3.204073e-02</td>\n",
        "      <td>7.682065e-02</td>\n",
        "    </tr>\n",
        "    <tr>\n",
        "      <th>min</th>\n",
        "      <td>0.000000e+00</td>\n",
        "      <td>0.000000e+00</td>\n",
        "      <td>0.000000e+00</td>\n",
        "      <td>0.000000e+00</td>\n",
        "      <td>0.000000e+00</td>\n",
        "      <td>0.000000e+00</td>\n",
        "      <td>0.000000e+00</td>\n",
        "      <td>0.000000e+00</td>\n",
        "      <td>0.000000e+00</td>\n",
        "      <td>0.000000e+00</td>\n",
        "      <td>...</td>\n",
        "      <td>0.000000e+00</td>\n",
        "      <td>0.000000e+00</td>\n",
        "      <td>0.000000e+00</td>\n",
        "      <td>0.000000e+00</td>\n",
        "      <td>0.000000e+00</td>\n",
        "      <td>0.000000e+00</td>\n",
        "      <td>0.000000e+00</td>\n",
        "      <td>0.000000e+00</td>\n",
        "      <td>0.000000e+00</td>\n",
        "      <td>0.000000e+00</td>\n",
        "    </tr>\n",
        "    <tr>\n",
        "      <th>25%</th>\n",
        "      <td>7.390928e-06</td>\n",
        "      <td>0.000000e+00</td>\n",
        "      <td>0.000000e+00</td>\n",
        "      <td>0.000000e+00</td>\n",
        "      <td>0.000000e+00</td>\n",
        "      <td>0.000000e+00</td>\n",
        "      <td>0.000000e+00</td>\n",
        "      <td>0.000000e+00</td>\n",
        "      <td>1.014493e-01</td>\n",
        "      <td>0.000000e+00</td>\n",
        "      <td>...</td>\n",
        "      <td>0.000000e+00</td>\n",
        "      <td>0.000000e+00</td>\n",
        "      <td>0.000000e+00</td>\n",
        "      <td>0.000000e+00</td>\n",
        "      <td>2.372881e-01</td>\n",
        "      <td>0.000000e+00</td>\n",
        "      <td>1.783476e-04</td>\n",
        "      <td>5.212672e-03</td>\n",
        "      <td>0.000000e+00</td>\n",
        "      <td>1.490237e-03</td>\n",
        "    </tr>\n",
        "    <tr>\n",
        "      <th>50%</th>\n",
        "      <td>7.390928e-06</td>\n",
        "      <td>0.000000e+00</td>\n",
        "      <td>0.000000e+00</td>\n",
        "      <td>0.000000e+00</td>\n",
        "      <td>0.000000e+00</td>\n",
        "      <td>0.000000e+00</td>\n",
        "      <td>0.000000e+00</td>\n",
        "      <td>0.000000e+00</td>\n",
        "      <td>1.739130e-01</td>\n",
        "      <td>0.000000e+00</td>\n",
        "      <td>...</td>\n",
        "      <td>0.000000e+00</td>\n",
        "      <td>0.000000e+00</td>\n",
        "      <td>0.000000e+00</td>\n",
        "      <td>0.000000e+00</td>\n",
        "      <td>4.915254e-01</td>\n",
        "      <td>5.391795e-06</td>\n",
        "      <td>6.161099e-04</td>\n",
        "      <td>1.622914e-02</td>\n",
        "      <td>6.198347e-04</td>\n",
        "      <td>2.222162e-02</td>\n",
        "    </tr>\n",
        "    <tr>\n",
        "      <th>75%</th>\n",
        "      <td>7.390928e-06</td>\n",
        "      <td>0.000000e+00</td>\n",
        "      <td>5.263158e-02</td>\n",
        "      <td>0.000000e+00</td>\n",
        "      <td>0.000000e+00</td>\n",
        "      <td>0.000000e+00</td>\n",
        "      <td>0.000000e+00</td>\n",
        "      <td>0.000000e+00</td>\n",
        "      <td>2.608696e-01</td>\n",
        "      <td>0.000000e+00</td>\n",
        "      <td>...</td>\n",
        "      <td>0.000000e+00</td>\n",
        "      <td>0.000000e+00</td>\n",
        "      <td>0.000000e+00</td>\n",
        "      <td>1.000000e+00</td>\n",
        "      <td>7.457627e-01</td>\n",
        "      <td>8.400416e-03</td>\n",
        "      <td>1.247420e-03</td>\n",
        "      <td>4.438832e-02</td>\n",
        "      <td>1.652893e-03</td>\n",
        "      <td>3.753478e-02</td>\n",
        "    </tr>\n",
        "    <tr>\n",
        "      <th>max</th>\n",
        "      <td>1.000000e+00</td>\n",
        "      <td>1.000000e+00</td>\n",
        "      <td>1.000000e+00</td>\n",
        "      <td>1.000000e+00</td>\n",
        "      <td>1.000000e+00</td>\n",
        "      <td>1.000000e+00</td>\n",
        "      <td>1.000000e+00</td>\n",
        "      <td>1.000000e+00</td>\n",
        "      <td>1.000000e+00</td>\n",
        "      <td>1.000000e+00</td>\n",
        "      <td>...</td>\n",
        "      <td>1.000000e+00</td>\n",
        "      <td>1.000000e+00</td>\n",
        "      <td>1.000000e+00</td>\n",
        "      <td>1.000000e+00</td>\n",
        "      <td>1.000000e+00</td>\n",
        "      <td>1.000000e+00</td>\n",
        "      <td>1.000000e+00</td>\n",
        "      <td>1.000000e+00</td>\n",
        "      <td>1.000000e+00</td>\n",
        "      <td>1.000000e+00</td>\n",
        "    </tr>\n",
        "  </tbody>\n",
        "</table>\n",
        "<p>8 rows × 25 columns</p>\n",
        "</div>"
       ],
       "text/plain": [
        "                 0             1             2             3             4   \\\n",
        "count  3.708824e+06  3.708824e+06  3.708824e+06  3.708824e+06  3.708824e+06   \n",
        "mean   2.420196e-05  5.485162e-03  2.045787e-02  3.187228e-02  1.423564e-06   \n",
        "std    2.129653e-03  2.061854e-02  3.788882e-02  6.638563e-02  6.523086e-04   \n",
        "min    0.000000e+00  0.000000e+00  0.000000e+00  0.000000e+00  0.000000e+00   \n",
        "25%    7.390928e-06  0.000000e+00  0.000000e+00  0.000000e+00  0.000000e+00   \n",
        "50%    7.390928e-06  0.000000e+00  0.000000e+00  0.000000e+00  0.000000e+00   \n",
        "75%    7.390928e-06  0.000000e+00  5.263158e-02  0.000000e+00  0.000000e+00   \n",
        "max    1.000000e+00  1.000000e+00  1.000000e+00  1.000000e+00  1.000000e+00   \n",
        "\n",
        "                 5             6             7             8             9   \\\n",
        "count  3.708824e+06  3.708824e+06  3.708824e+06  3.708824e+06  3.708824e+06   \n",
        "mean   1.172674e-04  1.579781e-01  1.979846e-02  1.821568e-01  1.342717e-02   \n",
        "std    3.267120e-03  3.647205e-01  1.393072e-01  9.657781e-02  1.150951e-01   \n",
        "min    0.000000e+00  0.000000e+00  0.000000e+00  0.000000e+00  0.000000e+00   \n",
        "25%    0.000000e+00  0.000000e+00  0.000000e+00  1.014493e-01  0.000000e+00   \n",
        "50%    0.000000e+00  0.000000e+00  0.000000e+00  1.739130e-01  0.000000e+00   \n",
        "75%    0.000000e+00  0.000000e+00  0.000000e+00  2.608696e-01  0.000000e+00   \n",
        "max    1.000000e+00  1.000000e+00  1.000000e+00  1.000000e+00  1.000000e+00   \n",
        "\n",
        "           ...                 15            16            17            18  \\\n",
        "count      ...       3.708824e+06  3.708824e+06  3.708824e+06  3.708824e+06   \n",
        "mean       ...       4.377938e-03  1.520806e-02  1.807476e-01  3.244430e-01   \n",
        "std        ...       6.602100e-02  1.223796e-01  3.848090e-01  4.681664e-01   \n",
        "min        ...       0.000000e+00  0.000000e+00  0.000000e+00  0.000000e+00   \n",
        "25%        ...       0.000000e+00  0.000000e+00  0.000000e+00  0.000000e+00   \n",
        "50%        ...       0.000000e+00  0.000000e+00  0.000000e+00  0.000000e+00   \n",
        "75%        ...       0.000000e+00  0.000000e+00  0.000000e+00  1.000000e+00   \n",
        "max        ...       1.000000e+00  1.000000e+00  1.000000e+00  1.000000e+00   \n",
        "\n",
        "                 19            20            21            22            23  \\\n",
        "count  3.708824e+06  3.708824e+06  3.708824e+06  3.708824e+06  3.708824e+06   \n",
        "mean   4.984980e-01  1.297191e-02  2.461070e-03  3.394426e-02  4.460104e-03   \n",
        "std    2.943571e-01  4.280644e-02  2.769149e-02  5.840290e-02  3.204073e-02   \n",
        "min    0.000000e+00  0.000000e+00  0.000000e+00  0.000000e+00  0.000000e+00   \n",
        "25%    2.372881e-01  0.000000e+00  1.783476e-04  5.212672e-03  0.000000e+00   \n",
        "50%    4.915254e-01  5.391795e-06  6.161099e-04  1.622914e-02  6.198347e-04   \n",
        "75%    7.457627e-01  8.400416e-03  1.247420e-03  4.438832e-02  1.652893e-03   \n",
        "max    1.000000e+00  1.000000e+00  1.000000e+00  1.000000e+00  1.000000e+00   \n",
        "\n",
        "                 24  \n",
        "count  3.708824e+06  \n",
        "mean   4.039490e-02  \n",
        "std    7.682065e-02  \n",
        "min    0.000000e+00  \n",
        "25%    1.490237e-03  \n",
        "50%    2.222162e-02  \n",
        "75%    3.753478e-02  \n",
        "max    1.000000e+00  \n",
        "\n",
        "[8 rows x 25 columns]"
       ]
      },
      "execution_count": 32,
      "metadata": {},
      "output_type": "execute_result"
     }
    ],
    "source": [
     "X_train_scaled.describe()"
    ]
   },
   {
    "cell_type": "code",
    "execution_count": 33,
    "metadata": {
     "scrolled": false
    },
    "outputs": [
     {
      "data": {
       "text/html": [
        "<div>\n",
        "<style scoped>\n",
        "    .dataframe tbody tr th:only-of-type {\n",
        "        vertical-align: middle;\n",
        "    }\n",
        "\n",
        "    .dataframe tbody tr th {\n",
        "        vertical-align: top;\n",
        "    }\n",
        "\n",
        "    .dataframe thead th {\n",
        "        text-align: right;\n",
        "    }\n",
        "</style>\n",
        "<table border=\"1\" class=\"dataframe\">\n",
        "  <thead>\n",
        "    <tr style=\"text-align: right;\">\n",
        "      <th></th>\n",
        "      <th>0</th>\n",
        "      <th>1</th>\n",
        "      <th>2</th>\n",
        "      <th>3</th>\n",
        "      <th>4</th>\n",
        "      <th>5</th>\n",
        "      <th>6</th>\n",
        "      <th>7</th>\n",
        "      <th>8</th>\n",
        "      <th>9</th>\n",
        "      <th>...</th>\n",
        "      <th>15</th>\n",
        "      <th>16</th>\n",
        "      <th>17</th>\n",
        "      <th>18</th>\n",
        "      <th>19</th>\n",
        "      <th>20</th>\n",
        "      <th>21</th>\n",
        "      <th>22</th>\n",
        "      <th>23</th>\n",
        "      <th>24</th>\n",
        "    </tr>\n",
        "  </thead>\n",
        "  <tbody>\n",
        "    <tr>\n",
        "      <th>count</th>\n",
        "      <td>1.589496e+06</td>\n",
        "      <td>1.589496e+06</td>\n",
        "      <td>1.589496e+06</td>\n",
        "      <td>1.589496e+06</td>\n",
        "      <td>1.589496e+06</td>\n",
        "      <td>1.589496e+06</td>\n",
        "      <td>1.589496e+06</td>\n",
        "      <td>1.589496e+06</td>\n",
        "      <td>1.589496e+06</td>\n",
        "      <td>1.589496e+06</td>\n",
        "      <td>...</td>\n",
        "      <td>1.589496e+06</td>\n",
        "      <td>1.589496e+06</td>\n",
        "      <td>1.589496e+06</td>\n",
        "      <td>1.589496e+06</td>\n",
        "      <td>1.589496e+06</td>\n",
        "      <td>1.589496e+06</td>\n",
        "      <td>1.589496e+06</td>\n",
        "      <td>1.589496e+06</td>\n",
        "      <td>1.589496e+06</td>\n",
        "      <td>1.589496e+06</td>\n",
        "    </tr>\n",
        "    <tr>\n",
        "      <th>mean</th>\n",
        "      <td>3.008399e-05</td>\n",
        "      <td>5.463861e-03</td>\n",
        "      <td>2.052965e-02</td>\n",
        "      <td>3.187037e-02</td>\n",
        "      <td>1.977188e-06</td>\n",
        "      <td>1.166702e-04</td>\n",
        "      <td>1.578047e-01</td>\n",
        "      <td>1.983585e-02</td>\n",
        "      <td>1.822536e-01</td>\n",
        "      <td>1.339859e-02</td>\n",
        "      <td>...</td>\n",
        "      <td>4.390071e-03</td>\n",
        "      <td>1.525767e-02</td>\n",
        "      <td>1.809819e-01</td>\n",
        "      <td>3.243846e-01</td>\n",
        "      <td>4.979953e-01</td>\n",
        "      <td>1.302839e-02</td>\n",
        "      <td>2.425514e-03</td>\n",
        "      <td>3.400537e-02</td>\n",
        "      <td>4.432355e-03</td>\n",
        "      <td>4.032176e-02</td>\n",
        "    </tr>\n",
        "    <tr>\n",
        "      <th>std</th>\n",
        "      <td>3.152337e-03</td>\n",
        "      <td>2.055627e-02</td>\n",
        "      <td>3.789402e-02</td>\n",
        "      <td>6.640853e-02</td>\n",
        "      <td>1.143136e-03</td>\n",
        "      <td>3.263673e-03</td>\n",
        "      <td>3.645579e-01</td>\n",
        "      <td>1.394360e-01</td>\n",
        "      <td>9.656662e-02</td>\n",
        "      <td>1.149742e-01</td>\n",
        "      <td>...</td>\n",
        "      <td>6.611203e-02</td>\n",
        "      <td>1.225760e-01</td>\n",
        "      <td>3.850033e-01</td>\n",
        "      <td>4.681446e-01</td>\n",
        "      <td>2.944804e-01</td>\n",
        "      <td>4.330879e-02</td>\n",
        "      <td>2.713501e-02</td>\n",
        "      <td>5.826074e-02</td>\n",
        "      <td>3.165589e-02</td>\n",
        "      <td>7.662602e-02</td>\n",
        "    </tr>\n",
        "    <tr>\n",
        "      <th>min</th>\n",
        "      <td>7.390928e-06</td>\n",
        "      <td>0.000000e+00</td>\n",
        "      <td>0.000000e+00</td>\n",
        "      <td>0.000000e+00</td>\n",
        "      <td>0.000000e+00</td>\n",
        "      <td>0.000000e+00</td>\n",
        "      <td>0.000000e+00</td>\n",
        "      <td>0.000000e+00</td>\n",
        "      <td>0.000000e+00</td>\n",
        "      <td>0.000000e+00</td>\n",
        "      <td>...</td>\n",
        "      <td>0.000000e+00</td>\n",
        "      <td>0.000000e+00</td>\n",
        "      <td>0.000000e+00</td>\n",
        "      <td>0.000000e+00</td>\n",
        "      <td>0.000000e+00</td>\n",
        "      <td>0.000000e+00</td>\n",
        "      <td>0.000000e+00</td>\n",
        "      <td>0.000000e+00</td>\n",
        "      <td>0.000000e+00</td>\n",
        "      <td>0.000000e+00</td>\n",
        "    </tr>\n",
        "    <tr>\n",
        "      <th>25%</th>\n",
        "      <td>7.390928e-06</td>\n",
        "      <td>0.000000e+00</td>\n",
        "      <td>0.000000e+00</td>\n",
        "      <td>0.000000e+00</td>\n",
        "      <td>0.000000e+00</td>\n",
        "      <td>0.000000e+00</td>\n",
        "      <td>0.000000e+00</td>\n",
        "      <td>0.000000e+00</td>\n",
        "      <td>1.014493e-01</td>\n",
        "      <td>0.000000e+00</td>\n",
        "      <td>...</td>\n",
        "      <td>0.000000e+00</td>\n",
        "      <td>0.000000e+00</td>\n",
        "      <td>0.000000e+00</td>\n",
        "      <td>0.000000e+00</td>\n",
        "      <td>2.372881e-01</td>\n",
        "      <td>0.000000e+00</td>\n",
        "      <td>1.793609e-04</td>\n",
        "      <td>5.239541e-03</td>\n",
        "      <td>0.000000e+00</td>\n",
        "      <td>1.490237e-03</td>\n",
        "    </tr>\n",
        "    <tr>\n",
        "      <th>50%</th>\n",
        "      <td>7.390928e-06</td>\n",
        "      <td>0.000000e+00</td>\n",
        "      <td>0.000000e+00</td>\n",
        "      <td>0.000000e+00</td>\n",
        "      <td>0.000000e+00</td>\n",
        "      <td>0.000000e+00</td>\n",
        "      <td>0.000000e+00</td>\n",
        "      <td>0.000000e+00</td>\n",
        "      <td>1.739130e-01</td>\n",
        "      <td>0.000000e+00</td>\n",
        "      <td>...</td>\n",
        "      <td>0.000000e+00</td>\n",
        "      <td>0.000000e+00</td>\n",
        "      <td>0.000000e+00</td>\n",
        "      <td>0.000000e+00</td>\n",
        "      <td>4.915254e-01</td>\n",
        "      <td>5.391795e-06</td>\n",
        "      <td>6.171232e-04</td>\n",
        "      <td>1.625601e-02</td>\n",
        "      <td>6.198347e-04</td>\n",
        "      <td>2.221862e-02</td>\n",
        "    </tr>\n",
        "    <tr>\n",
        "      <th>75%</th>\n",
        "      <td>7.390928e-06</td>\n",
        "      <td>0.000000e+00</td>\n",
        "      <td>5.263158e-02</td>\n",
        "      <td>0.000000e+00</td>\n",
        "      <td>0.000000e+00</td>\n",
        "      <td>0.000000e+00</td>\n",
        "      <td>0.000000e+00</td>\n",
        "      <td>0.000000e+00</td>\n",
        "      <td>2.608696e-01</td>\n",
        "      <td>0.000000e+00</td>\n",
        "      <td>...</td>\n",
        "      <td>0.000000e+00</td>\n",
        "      <td>0.000000e+00</td>\n",
        "      <td>0.000000e+00</td>\n",
        "      <td>1.000000e+00</td>\n",
        "      <td>7.457627e-01</td>\n",
        "      <td>8.400416e-03</td>\n",
        "      <td>1.247420e-03</td>\n",
        "      <td>4.441519e-02</td>\n",
        "      <td>1.652893e-03</td>\n",
        "      <td>3.753478e-02</td>\n",
        "    </tr>\n",
        "    <tr>\n",
        "      <th>max</th>\n",
        "      <td>9.999926e-01</td>\n",
        "      <td>8.214286e-01</td>\n",
        "      <td>6.842105e-01</td>\n",
        "      <td>1.000000e+00</td>\n",
        "      <td>1.405168e+00</td>\n",
        "      <td>9.999997e-01</td>\n",
        "      <td>1.000000e+00</td>\n",
        "      <td>1.000000e+00</td>\n",
        "      <td>7.681159e-01</td>\n",
        "      <td>1.000000e+00</td>\n",
        "      <td>...</td>\n",
        "      <td>1.000000e+00</td>\n",
        "      <td>1.000000e+00</td>\n",
        "      <td>1.000000e+00</td>\n",
        "      <td>1.000000e+00</td>\n",
        "      <td>1.000000e+00</td>\n",
        "      <td>1.000000e+00</td>\n",
        "      <td>1.000000e+00</td>\n",
        "      <td>1.000000e+00</td>\n",
        "      <td>1.000000e+00</td>\n",
        "      <td>1.000000e+00</td>\n",
        "    </tr>\n",
        "  </tbody>\n",
        "</table>\n",
        "<p>8 rows × 25 columns</p>\n",
        "</div>"
       ],
       "text/plain": [
        "                 0             1             2             3             4   \\\n",
        "count  1.589496e+06  1.589496e+06  1.589496e+06  1.589496e+06  1.589496e+06   \n",
        "mean   3.008399e-05  5.463861e-03  2.052965e-02  3.187037e-02  1.977188e-06   \n",
        "std    3.152337e-03  2.055627e-02  3.789402e-02  6.640853e-02  1.143136e-03   \n",
        "min    7.390928e-06  0.000000e+00  0.000000e+00  0.000000e+00  0.000000e+00   \n",
        "25%    7.390928e-06  0.000000e+00  0.000000e+00  0.000000e+00  0.000000e+00   \n",
        "50%    7.390928e-06  0.000000e+00  0.000000e+00  0.000000e+00  0.000000e+00   \n",
        "75%    7.390928e-06  0.000000e+00  5.263158e-02  0.000000e+00  0.000000e+00   \n",
        "max    9.999926e-01  8.214286e-01  6.842105e-01  1.000000e+00  1.405168e+00   \n",
        "\n",
        "                 5             6             7             8             9   \\\n",
        "count  1.589496e+06  1.589496e+06  1.589496e+06  1.589496e+06  1.589496e+06   \n",
        "mean   1.166702e-04  1.578047e-01  1.983585e-02  1.822536e-01  1.339859e-02   \n",
        "std    3.263673e-03  3.645579e-01  1.394360e-01  9.656662e-02  1.149742e-01   \n",
        "min    0.000000e+00  0.000000e+00  0.000000e+00  0.000000e+00  0.000000e+00   \n",
        "25%    0.000000e+00  0.000000e+00  0.000000e+00  1.014493e-01  0.000000e+00   \n",
        "50%    0.000000e+00  0.000000e+00  0.000000e+00  1.739130e-01  0.000000e+00   \n",
        "75%    0.000000e+00  0.000000e+00  0.000000e+00  2.608696e-01  0.000000e+00   \n",
        "max    9.999997e-01  1.000000e+00  1.000000e+00  7.681159e-01  1.000000e+00   \n",
        "\n",
        "           ...                 15            16            17            18  \\\n",
        "count      ...       1.589496e+06  1.589496e+06  1.589496e+06  1.589496e+06   \n",
        "mean       ...       4.390071e-03  1.525767e-02  1.809819e-01  3.243846e-01   \n",
        "std        ...       6.611203e-02  1.225760e-01  3.850033e-01  4.681446e-01   \n",
        "min        ...       0.000000e+00  0.000000e+00  0.000000e+00  0.000000e+00   \n",
        "25%        ...       0.000000e+00  0.000000e+00  0.000000e+00  0.000000e+00   \n",
        "50%        ...       0.000000e+00  0.000000e+00  0.000000e+00  0.000000e+00   \n",
        "75%        ...       0.000000e+00  0.000000e+00  0.000000e+00  1.000000e+00   \n",
        "max        ...       1.000000e+00  1.000000e+00  1.000000e+00  1.000000e+00   \n",
        "\n",
        "                 19            20            21            22            23  \\\n",
        "count  1.589496e+06  1.589496e+06  1.589496e+06  1.589496e+06  1.589496e+06   \n",
        "mean   4.979953e-01  1.302839e-02  2.425514e-03  3.400537e-02  4.432355e-03   \n",
        "std    2.944804e-01  4.330879e-02  2.713501e-02  5.826074e-02  3.165589e-02   \n",
        "min    0.000000e+00  0.000000e+00  0.000000e+00  0.000000e+00  0.000000e+00   \n",
        "25%    2.372881e-01  0.000000e+00  1.793609e-04  5.239541e-03  0.000000e+00   \n",
        "50%    4.915254e-01  5.391795e-06  6.171232e-04  1.625601e-02  6.198347e-04   \n",
        "75%    7.457627e-01  8.400416e-03  1.247420e-03  4.441519e-02  1.652893e-03   \n",
        "max    1.000000e+00  1.000000e+00  1.000000e+00  1.000000e+00  1.000000e+00   \n",
        "\n",
        "                 24  \n",
        "count  1.589496e+06  \n",
        "mean   4.032176e-02  \n",
        "std    7.662602e-02  \n",
        "min    0.000000e+00  \n",
        "25%    1.490237e-03  \n",
        "50%    2.221862e-02  \n",
        "75%    3.753478e-02  \n",
        "max    1.000000e+00  \n",
        "\n",
        "[8 rows x 25 columns]"
       ]
      },
      "execution_count": 33,
      "metadata": {},
      "output_type": "execute_result"
     }
    ],
    "source": [
     "X_test_scaled.describe()"
    ]
   },
   {
    "cell_type": "markdown",
    "metadata": {},
    "source": [
     "Build, train, predict and check accuracy of baseline model, upon which we will build and improve in our final model"
    ]
   },
   {
    "cell_type": "code",
    "execution_count": 34,
    "metadata": {},
    "outputs": [],
    "source": [
     "# build the baseline model\n",
     "input_dim = X_train_scaled.shape[1]\n",
     "\n",
     "num_classes = 1\n",
     "nodes = 100\n",
     "\n",
     "baseline_model = Sequential()\n",
     "\n",
     "baseline_model.add(Dense(nodes, activation='relu', kernel_initializer='uniform', \n",
     "                input_dim = input_dim))\n",
     "\n",
     "baseline_model.add(Dense(nodes, activation='relu'))\n",
     "baseline_model.add(Dense(nodes, activation='relu'))\n",
     "baseline_model.add(Dense(nodes, activation='relu'))\n",
     "baseline_model.add(Dense(nodes, activation='relu'))\n",
     "baseline_model.add(Dense(nodes, activation='relu'))\n",
     "baseline_model.add(Dense(nodes, activation='relu'))\n",
     "\n",
     "baseline_model.add(Dense(num_classes, kernel_initializer='uniform', activation='sigmoid'))\n",
     "\n",
     "# compile the model\n",
     "baseline_model.compile(loss='binary_crossentropy',\n",
     "              optimizer='adam',\n",
     "              metrics=['acc'])"
    ]
   },
   {
    "cell_type": "markdown",
    "metadata": {},
    "source": [
     "Create functions to save model weights for later use."
    ]
   },
   {
    "cell_type": "code",
    "execution_count": 59,
    "metadata": {},
    "outputs": [],
    "source": [
     "def load_weights(folder):\n",
     "    final_model.load_weights(folder + '/final_model.w')\n",
     "    \n",
     "def save_weights(folder):\n",
     "    if not os.path.isdir(folder):\n",
     "        os.mkdir(folder)\n",
     "    final_model.save_weights(folder + '/final_model.w')"
    ]
   },
   {
    "cell_type": "markdown",
    "metadata": {},
    "source": [
     "Train Model if untrained."
    ]
   },
   {
    "cell_type": "code",
    "execution_count": 56,
    "metadata": {},
    "outputs": [],
    "source": [
     "training_flag = False"
    ]
   },
   {
    "cell_type": "code",
    "execution_count": 35,
    "metadata": {},
    "outputs": [
     {
      "name": "stdout",
      "output_type": "stream",
      "text": [
       "Epoch 1/10\n",
       "3708824/3708824 [==============================] - 31s 8us/step - loss: 0.1026 - acc: 0.9618\n",
       "Epoch 2/10\n",
       "3708824/3708824 [==============================] - 26s 7us/step - loss: 0.0543 - acc: 0.9796\n",
       "Epoch 3/10\n",
       "3708824/3708824 [==============================] - 26s 7us/step - loss: 0.0321 - acc: 0.9884\n",
       "Epoch 4/10\n",
       "3708824/3708824 [==============================] - 26s 7us/step - loss: 0.0223 - acc: 0.9922\n",
       "Epoch 5/10\n",
       "3708824/3708824 [==============================] - 26s 7us/step - loss: 0.0175 - acc: 0.9941\n",
       "Epoch 6/10\n",
       "3708824/3708824 [==============================] - 26s 7us/step - loss: 0.0145 - acc: 0.9951\n",
       "Epoch 7/10\n",
       "3708824/3708824 [==============================] - 26s 7us/step - loss: 0.0126 - acc: 0.9959\n",
       "Epoch 8/10\n",
       "3708824/3708824 [==============================] - 26s 7us/step - loss: 0.0106 - acc: 0.9964\n",
       "Epoch 9/10\n",
       "3708824/3708824 [==============================] - 26s 7us/step - loss: 0.0095 - acc: 0.9968\n",
       "Epoch 10/10\n",
       "3708824/3708824 [==============================] - 26s 7us/step - loss: 0.0086 - acc: 0.9972\n",
       "CPU times: user 5min 12s, sys: 43.3 s, total: 5min 55s\n",
       "Wall time: 4min 25s\n"
      ]
     }
    ],
    "source": [
     "# Fit the baseline model\n",
     "batch_size = 2**10\n",
     "epochs = 10\n",
     "\n",
     "baseline_model_history = baseline_model.fit(X_train_scaled, y_train,\n",
     "                    batch_size=batch_size,\n",
     "                    epochs=epochs,\n",
     "                    verbose=1,\n",
     "                    shuffle=True)"
    ]
   },
   {
    "cell_type": "code",
    "execution_count": 36,
    "metadata": {},
    "outputs": [
     {
      "data": {
       "image/png": "[encoded data removed]",
       "text/plain": [
        "<Figure size 648x432 with 1 Axes>"
       ]
      },
      "metadata": {
       "needs_background": "light"
      },
      "output_type": "display_data"
     }
    ],
    "source": [
     "fig, ax = plt.subplots(figsize=(9, 6))\n",
     "ax.plot(np.array(baseline_model_history.history['acc']), color='blue', label='training accuracy')\n",
     "ax.plot(np.array(baseline_model_history.history['loss']), color='red', label='training loss')\n",
     "# ax.set_title('optimizer={}, lr={}'.format('Adam', lr))\n",
     "ax.legend(loc='upper right')\n",
     "plt.show()"
    ]
   },
   {
    "cell_type": "markdown",
    "metadata": {},
    "source": [
     "We see that our base model learns as it progresses through the epochs. We have good scores for training accuracy in each epoch, but let's test overall performance"
    ]
   },
   {
    "cell_type": "code",
    "execution_count": 37,
    "metadata": {},
    "outputs": [
     {
      "name": "stdout",
      "output_type": "stream",
      "text": [
       "Train confusion matrix:\n",
       " [[1532805   68689]\n",
       " [1171047  936283]]\n",
       "Train loss: 5.384253384901117\n",
       "Train accuracy: 0.6657333968934628\n"
      ]
     }
    ],
    "source": [
     "# evaluate the training and testing performance of our model \n",
     "score = baseline_model.evaluate(X_train, y_train, verbose=0)\n",
     "# get the class probabilities predicted by our MLP on the training set\n",
     "y_pred = baseline_model.predict(X_train)\n",
     "y_pred[y_pred > 0.5] = 1\n",
     "y_pred[y_pred <= 0.5] = 0\n",
     "print('Train confusion matrix:\\n', confusion_matrix(y_train, y_pred))\n",
     "print('Train loss:', score[0])\n",
     "print('Train accuracy:', score[1])"
    ]
   },
   {
    "cell_type": "code",
    "execution_count": 38,
    "metadata": {},
    "outputs": [
     {
      "name": "stdout",
      "output_type": "stream",
      "text": [
       "Test confusion matrix:\n",
       " [[656897  29457]\n",
       " [501002 402140]]\n",
       "Test loss: 5.375560504454298\n",
       "Test accuracy: 0.6662722020064705\n"
      ]
     }
    ],
    "source": [
     "# evaluate the training and testing performance of our model \n",
     "score = baseline_model.evaluate(X_test, y_test, verbose=0)\n",
     "# get the class probabilities predicted by our MLP on the training set\n",
     "y_pred = baseline_model.predict(X_test)\n",
     "y_pred[y_pred > 0.5] = 1\n",
     "y_pred[y_pred <= 0.5] = 0\n",
     "print('Test confusion matrix:\\n', confusion_matrix(y_test, y_pred))\n",
     "print('Test loss:', score[0])\n",
     "print('Test accuracy:', score[1])"
    ]
   },
   {
    "cell_type": "markdown",
    "metadata": {},
    "source": [
     "Build, train, predict and check accuracy of improved model"
    ]
   },
   {
    "cell_type": "code",
    "execution_count": 39,
    "metadata": {},
    "outputs": [],
    "source": [
     "# build the final model\n",
     "input_dim = X_train_scaled.shape[1]\n",
     "\n",
     "num_classes = 1\n",
     "nodes = 100\n",
     "\n",
     "final_model = Sequential()\n",
     "\n",
     "final_model.add(Dense(nodes, activation='relu', kernel_initializer='uniform', \n",
     "                input_dim = input_dim))\n",
     "\n",
     "final_model.add(Dense(nodes, activation='relu'))\n",
     "final_model.add(Dense(nodes, activation='relu'))\n",
     "\n",
     "final_model.add(Dropout(0.2))\n",
     "\n",
     "final_model.add(Dense(nodes, activation='relu'))\n",
     "final_model.add(Dense(nodes, activation='relu'))\n",
     "\n",
     "final_model.add(Dropout(0.2))\n",
     "\n",
     "final_model.add(Dense(nodes, activation='relu'))\n",
     "final_model.add(Dense(nodes, activation='relu'))\n",
     "\n",
     "final_model.add(Dense(num_classes, kernel_initializer='uniform', activation='sigmoid'))\n",
     "\n",
     "# compile the model\n",
     "final_model.compile(loss='binary_crossentropy',\n",
     "              optimizer='adam',\n",
     "              metrics=['acc'])"
    ]
   },
   {
    "cell_type": "code",
    "execution_count": 40,
    "metadata": {},
    "outputs": [],
    "source": [
     "early_stopping = EarlyStopping(monitor='val_loss', min_delta=0, patience=10, verbose=5, mode='auto')"
    ]
   },
   {
    "cell_type": "code",
    "execution_count": 41,
    "metadata": {},
    "outputs": [
     {
      "name": "stdout",
      "output_type": "stream",
      "text": [
       "Train on 3337941 samples, validate on 370883 samples\n",
       "Epoch 1/10\n",
       "3337941/3337941 [==============================] - 26s 8us/step - loss: 0.1042 - acc: 0.9616 - val_loss: 0.0788 - val_acc: 0.9700\n",
       "Epoch 2/10\n",
       "3337941/3337941 [==============================] - 25s 8us/step - loss: 0.0561 - acc: 0.9786 - val_loss: 0.0404 - val_acc: 0.9842\n",
       "Epoch 3/10\n",
       "3337941/3337941 [==============================] - 25s 8us/step - loss: 0.0407 - acc: 0.9847 - val_loss: 0.0301 - val_acc: 0.9892\n",
       "Epoch 4/10\n",
       "3337941/3337941 [==============================] - 25s 8us/step - loss: 0.0323 - acc: 0.9882 - val_loss: 0.0265 - val_acc: 0.9906\n",
       "Epoch 5/10\n",
       "3337941/3337941 [==============================] - 25s 8us/step - loss: 0.0270 - acc: 0.9903 - val_loss: 0.0208 - val_acc: 0.9931\n",
       "Epoch 6/10\n",
       "3337941/3337941 [==============================] - 25s 8us/step - loss: 0.0228 - acc: 0.9920 - val_loss: 0.0167 - val_acc: 0.9944\n",
       "Epoch 7/10\n",
       "3337941/3337941 [==============================] - 25s 8us/step - loss: 0.0200 - acc: 0.9931 - val_loss: 0.0171 - val_acc: 0.9934\n",
       "Epoch 8/10\n",
       "3337941/3337941 [==============================] - 25s 8us/step - loss: 0.0178 - acc: 0.9939 - val_loss: 0.0107 - val_acc: 0.9963\n",
       "Epoch 9/10\n",
       "3337941/3337941 [==============================] - 25s 8us/step - loss: 0.0164 - acc: 0.9945 - val_loss: 0.0113 - val_acc: 0.9961\n",
       "Epoch 10/10\n",
       "3337941/3337941 [==============================] - 25s 8us/step - loss: 0.0147 - acc: 0.9951 - val_loss: 0.0157 - val_acc: 0.9953\n",
       "CPU times: user 4min 56s, sys: 44.4 s, total: 5min 41s\n",
       "Wall time: 4min 14s\n"
      ]
     }
    ],
    "source": [
     "%%time\n",
     "if training_flag:\n",
     "    \n",
     "# Fit the model\n",
     "    batch_size = 2**10\n",
     "    epochs = 10\n",
     "\n",
     "    final_model_history = final_model.fit(X_train_scaled, y_train,\n",
     "                    batch_size=batch_size,\n",
     "                    epochs=epochs,\n",
     "                    verbose=1,\n",
     "                    callbacks=[early_stopping],\n",
     "                    validation_split=0.1,\n",
     "                    shuffle=True,)\n",
     "    \n",
     "    \n",
     "    save_weights(folder='data/celeba_vae')\n",
     "else:\n",
     "    load_weights(folder='data/celeba_vae')"
    ]
   },
   {
    "cell_type": "code",
    "execution_count": 42,
    "metadata": {},
    "outputs": [
     {
      "data": {
       "image/png": "[encoded data removed]",
       "text/plain": [
        "<Figure size 648x432 with 1 Axes>"
       ]
      },
      "metadata": {
       "needs_background": "light"
      },
      "output_type": "display_data"
     }
    ],
    "source": [
     "fig, ax = plt.subplots(figsize=(9, 6))\n",
     "ax.plot(np.array(final_model_history.history['acc']), color='blue', label='training accuracy')\n",
     "ax.plot(np.array(final_model_history.history['loss']), color='red', label='training loss')\n",
     "ax.plot(np.array(final_model_history.history['val_acc']), color='black', label='validation training accuracy')\n",
     "ax.plot(np.array(final_model_history.history['val_loss']), color='yellow', label='validation training loss')\n",
     "# ax.set_title('optimizer={}, lr={}'.format('Adam', lr))\n",
     "ax.legend(loc='upper right')\n",
     "plt.show()"
    ]
   },
   {
    "cell_type": "markdown",
    "metadata": {},
    "source": [
     "Check accuracy of train set"
    ]
   },
   {
    "cell_type": "code",
    "execution_count": 43,
    "metadata": {},
    "outputs": [
     {
      "name": "stdout",
      "output_type": "stream",
      "text": [
       "Train confusion matrix:\n",
       " [[1541450   60044]\n",
       " [1181066  926264]]\n",
       "Train loss: 5.390812724318497\n",
       "Train accuracy: 0.6653629290579647\n"
      ]
     }
    ],
    "source": [
     "# evaluate the training and testing performance of our model \n",
     "score = final_model.evaluate(X_train, y_train, verbose=0)\n",
     "# get the class probabilities predicted by our MLP on the training set\n",
     "y_pred = final_model.predict(X_train)\n",
     "y_pred[y_pred > 0.5] = 1\n",
     "y_pred[y_pred <= 0.5] = 0\n",
     "print('Train confusion matrix:\\n', confusion_matrix(y_train, y_pred))\n",
     "print('Train loss:', score[0])\n",
     "print('Train accuracy:', score[1])"
    ]
   },
   {
    "cell_type": "markdown",
    "metadata": {},
    "source": [
     "Check accuracy of test set"
    ]
   },
   {
    "cell_type": "code",
    "execution_count": 44,
    "metadata": {},
    "outputs": [
     {
      "name": "stdout",
      "output_type": "stream",
      "text": [
       "Test confusion matrix:\n",
       " [[660611  25743]\n",
       " [505178 397964]]\n",
       "Test loss: 5.380858372078886\n",
       "Test accuracy: 0.6659815438355786\n"
      ]
     }
    ],
    "source": [
     "# evaluate the training and testing performance of our model \n",
     "score = final_model.evaluate(X_test, y_test, verbose=0)\n",
     "# get the class probabilities predicted by our MLP on the training set\n",
     "y_pred = final_model.predict(X_test)\n",
     "y_pred[y_pred > 0.5] = 1\n",
     "y_pred[y_pred <= 0.5] = 0\n",
     "print('Test confusion matrix:\\n', confusion_matrix(y_test, y_pred))\n",
     "print('Test loss:', score[0])\n",
     "print('Test accuracy:', score[1])"
    ]
   },
   {
    "cell_type": "code",
    "execution_count": 50,
    "metadata": {},
    "outputs": [],
    "source": [
     "final_y_test = test_df_by_usr.bots"
    ]
   },
   {
    "cell_type": "code",
    "execution_count": 49,
    "metadata": {},
    "outputs": [],
    "source": [
     "\n",
     "final_x_test = test_df_by_usr.drop(columns = [\"created_at\", \"text\", \"timestamp\", \"user_id\",\n",
     "                                           \"bots\", \"year\", \"month\", \"day\", \"hour\", \"minute\"], axis = 1)"
    ]
   },
   {
    "cell_type": "code",
    "execution_count": 51,
    "metadata": {},
    "outputs": [],
    "source": [
     "final_x_test_scaled = pd.DataFrame(transformer.transform(final_x_test))"
    ]
   },
   {
    "cell_type": "code",
    "execution_count": 52,
    "metadata": {},
    "outputs": [
     {
      "name": "stdout",
      "output_type": "stream",
      "text": [
       "Test confusion matrix:\n",
       " [[519948  31565]\n",
       " [ 37191 605497]]\n",
       "Test loss: 0.4697286067304131\n",
       "Test accuracy: 0.9424251026418501\n"
      ]
     }
    ],
    "source": [
     "# evaluate the training and testing performance of our model \n",
     "score = baseline_model.evaluate(final_x_test_scaled, final_y_test, verbose=0)\n",
     "# get the class probabilities predicted by our MLP on the training set\n",
     "y_pred = baseline_model.predict(final_x_test_scaled)\n",
     "y_pred[y_pred > 0.5] = 1\n",
     "y_pred[y_pred <= 0.5] = 0\n",
     "print('Test confusion matrix:\\n', confusion_matrix(final_y_test, y_pred))\n",
     "print('Test loss:', score[0])\n",
     "print('Test accuracy:', score[1])"
    ]
   },
   {
    "cell_type": "code",
    "execution_count": 53,
    "metadata": {},
    "outputs": [
     {
      "name": "stdout",
      "output_type": "stream",
      "text": [
       "Test confusion matrix:\n",
       " [[524894  26619]\n",
       " [ 35636 607052]]\n",
       "Test loss: 0.3894988631429476\n",
       "Test accuracy: 0.9478689098401358\n"
      ]
     }
    ],
    "source": [
     "# evaluate the training and testing performance of our model \n",
     "score = final_model.evaluate(final_x_test_scaled, final_y_test, verbose=0)\n",
     "# get the class probabilities predicted by our MLP on the training set\n",
     "y_pred = final_model.predict(final_x_test_scaled)\n",
     "y_pred[y_pred > 0.5] = 1\n",
     "y_pred[y_pred <= 0.5] = 0\n",
     "print('Test confusion matrix:\\n', confusion_matrix(final_y_test, y_pred))\n",
     "print('Test loss:', score[0])\n",
     "print('Test accuracy:', score[1])"
    ]
   },
   {
    "cell_type": "code",
    "execution_count": 62,
    "metadata": {},
    "outputs": [],
    "source": [
     "y_pred = final_model.predict(final_x_test_scaled)"
    ]
   },
   {
    "cell_type": "code",
    "execution_count": 63,
    "metadata": {},
    "outputs": [
     {
      "name": "stderr",
      "output_type": "stream",
      "text": [
       "/usr/share/anaconda3/lib/python3.6/site-packages/ipykernel_launcher.py:1: SettingWithCopyWarning: \n",
       "A value is trying to be set on a copy of a slice from a DataFrame.\n",
       "Try using .loc[row_indexer,col_indexer] = value instead\n",
       "\n",
       "See the caveats in the documentation: http://pandas.pydata.org/pandas-docs/stable/indexing.html#indexing-view-versus-copy\n",
       "  \"\"\"Entry point for launching an IPython kernel.\n"
      ]
     }
    ],
    "source": [
     "test_df_by_usr['y_pred'] = y_pred"
    ]
   },
   {
    "cell_type": "code",
    "execution_count": 74,
    "metadata": {},
    "outputs": [],
    "source": [
     "y_pred = test_df_by_usr.groupby('user_id').y_pred.mean()\n"
    ]
   },
   {
    "cell_type": "code",
    "execution_count": 82,
    "metadata": {},
    "outputs": [],
    "source": [
     "botometer_df = pd.DataFrame({'user_id':y_pred.index, 'y_pred':y_pred.values})"
    ]
   },
   {
    "cell_type": "markdown",
    "metadata": {},
    "source": [
     "Saving the users in test set will be comparing against Botometer result"
    ]
   },
   {
    "cell_type": "code",
    "execution_count": 83,
    "metadata": {},
    "outputs": [],
    "source": [
     "botometer_df.to_csv('data/botometer_df.csv')"
    ]
   }
],
 "metadata": {
  "kernelspec": {
   "display_name": "Python 3",
   "language": "python",
   "name": "python3"
  },
  "language_info": {
   "codemirror_mode": {
    "name": "ipython",
    "version": 3
   },
   "file_extension": ".py",
   "mimetype": "text/x-python",
   "name": "python",
   "nbconvert_exporter": "python",
   "pygments_lexer": "ipython3",
   "version": "3.6.8"
  }
 },
 "nbformat": 4,
 "nbformat_minor": 2
}
